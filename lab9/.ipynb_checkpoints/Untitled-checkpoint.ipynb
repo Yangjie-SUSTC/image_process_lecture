{
 "cells": [
  {
   "cell_type": "code",
   "execution_count": 27,
   "metadata": {},
   "outputs": [],
   "source": [
    "#!/usr/bin/python3\n",
    "# -*- coding: utf-8 -*-\n",
    "'''\n",
    " @File  : lab8.py\n",
    " @Author: Yangjie\n",
    " @license : Copyright(C), SUSTech,Shenzhen,China \n",
    " @Contact : yangj3@mail.sustc.edu.cn\n",
    " @Date  : 2018/11/10\n",
    " @IDE : PyCharm\n",
    " @Desc  : \n",
    " '''\n",
    "import cv2\n",
    "import numpy as np\n",
    "from matplotlib import pyplot as plt\n",
    "from copy import deepcopy as dcp\n",
    "import pandas as pd\n",
    "\n",
    "\n",
    "class IMG:\n",
    "    def __init__(self, name, mark=None):\n",
    "        self.path = 'D:\\graduated\\Image_process\\lab\\PGM_images\\\\'\n",
    "        self.savepath = 'D:\\graduated\\Image_process\\lab\\lab_report\\lab9\\imagesave\\\\'\n",
    "        self.name = name\n",
    "        self.prop = '.pgm'\n",
    "        self.mark = mark\n",
    "        # self.img=None\n",
    "\n",
    "    def load(self):\n",
    "        self.imapath = self.path + self.name + self.prop\n",
    "        self.img = np.float64(cv2.imread(self.imapath, 0))\n",
    "        self.save(self.img, 'original')\n",
    "        return self.img\n",
    "\n",
    "    def save(self, img, mark=None, flag=0):\n",
    "        if flag:\n",
    "            img = cv2.equalizeHist(np.uint8(img))\n",
    "        self.mark = mark\n",
    "        savepath = self.savepath + self.name + '_' + self.mark + '.jpg'\n",
    "        cv2.imwrite(savepath, img)\n",
    "        return img\n",
    "\n",
    "    def disp(self, winName, img, sizeflag=cv2.WINDOW_NORMAL):\n",
    "\n",
    "        img = cv2.equalizeHist(np.uint8(img))\n",
    "        if sizeflag == 1:\n",
    "            sizeflag = cv2.WINDOW_AUTOSIZE\n",
    "        cv2.namedWindow(winName, sizeflag)\n",
    "        cv2.imshow(winName, img)\n",
    "        cv2.waitKey(0)\n",
    "        cv2.destroyWindow(winName)\n",
    "        return img\n",
    "\n",
    "    def psave(self, img, mark=None, cb=0):  # shown image in windows and save\n",
    "        fig = plt.gcf()\n",
    "        plt.imshow(img, cmap='gray')\n",
    "        if cb:\n",
    "            plt.colorbar()\n",
    "        plt.xticks([]), plt.yticks([])\n",
    "        savepath = self.savepath + self.name + '_' + mark + '.jpg'\n",
    "        fig.savefig(savepath, dpi=500, bbox_inches='tight')\n",
    "        plt.close()\n",
    "\n",
    "    def fsave(self, fig, mark=None):  # save plot fihiure\n",
    "        # plt.tick_params(labelsize=20)\n",
    "        # plt.xticks([]), plt.yticks([])\n",
    "        savepath = self.savepath + self.name + '_' + mark + '.jpg'\n",
    "        fig.savefig(savepath, dpi=500, bbox_inches='tight')\n",
    "        plt.close()\n",
    "\n",
    "    def plthist(self, img, mark):\n",
    "        font2 = {'family': 'Times New Roman', 'weight': 'normal', 'size': 25}\n",
    "        img = np.uint8(img)\n",
    "        fig = plt.gcf()\n",
    "        plt.hist(img.ravel(), 256);\n",
    "        plt.xlabel('Intensity ', font2)\n",
    "        plt.ylabel('Count ', font2)\n",
    "        self.fsave(fig, mark)\n",
    "        plt.close()\n",
    "\n",
    "\n",
    "def sfft(img):\n",
    "    f = np.fft.fft2(img)\n",
    "    fshift = np.fft.fftshift(f)\n",
    "    return fshift\n",
    "\n",
    "\n",
    "def isfft(fshift):\n",
    "    f_ishift = np.fft.ifftshift(fshift)\n",
    "    img_back = np.fft.ifft2(f_ishift)\n",
    "    return img_back\n",
    "\n",
    "\n",
    "def cal_R(x, y, img):\n",
    "    N = img.shape[0]\n",
    "    M = img.shape[1]\n",
    "    u = x - M / 2\n",
    "    v = N / 2 - y\n",
    "    R = np.sqrt(u ** 2 + v ** 2)\n",
    "    return R\n",
    "\n",
    "\n",
    "class SEG:\n",
    "    def __init__(self):\n",
    "        self.name = 'Segmentation'\n",
    "\n",
    "    def  EdgeDtect(self, img, op):  \n",
    "        edge=np.zeros((img.shape[0]-op.shape[0]+1,img.shape[1]-op.shape[1]+1))\n",
    "        for x in range(img.shape[0]-op.shape[0]+1):\n",
    "            for y in range(img.shape[1]-op.shape[1]+1):\n",
    "                ROI=img[x:x+op.shape[0],y:y+op.shape[1]]\n",
    "                edge[x,y]=np.sum(ROI*op)\n",
    "        return (edge)\n",
    "        \n",
    "        \n",
    "        \n",
    "  \n",
    "       \n",
    "    def  Threshold(self, edge,thrshold, percent=1):\n",
    "        if percent : # thrshold is percentage\n",
    "            thrshold=np.max(edge)*thrshold\n",
    "        edg=dcp(edge)\n",
    "        edg[edg>thrshold]=255\n",
    "        #edg[edg<=thrshold]=0\n",
    "        return (edg)\n",
    "        \n",
    "            \n",
    "        \n",
    "            \n",
    "\n",
    "            \n",
    "                \n",
    "            \n",
    "    \n",
    "\n",
    "   "
   ]
  },
  {
   "cell_type": "code",
   "execution_count": 44,
   "metadata": {},
   "outputs": [
    {
     "name": "stdout",
     "output_type": "stream",
     "text": [
      "\n",
      "---Problem 1----\n",
      "\n",
      "headCT_Vandy....\n",
      "Prewitt.....\n",
      "Roberts.....\n",
      "Sobel.....\n",
      "building_original....\n",
      "Prewitt.....\n",
      "Roberts.....\n",
      "Sobel.....\n",
      "noisy_fingerprint....\n",
      "Prewitt.....\n",
      "Roberts.....\n",
      "Sobel.....\n",
      "\n",
      "==== Problem 1 done ====\n",
      "\n"
     ]
    }
   ],
   "source": [
    "## -------------- P1----------------\n",
    "## Roberts, Prewitt, Sobel gradient operators， threshold\n",
    "print('\\n---Problem 1----\\n')\n",
    "imnameset = ['headCT_Vandy', 'building_original','noisy_fingerprint']\n",
    "#imnameset = [ 'building_original']\n",
    "Roberts_x=np.array([-1,0,0,1])\n",
    "Roberts_y=np.array([0,-1,1,0])\n",
    "Prewitt_x=np.array([-1,-1,-1,0,0,0,1,1,1])\n",
    "Sobel_x=np.array([-1,-2,-1,0,0,0,1,2,1])\n",
    "\n",
    "Roberts_x=Roberts_x.reshape(2,2)\n",
    "Roberts_y=Roberts_y.reshape(2,2)\n",
    "\n",
    "Roberts=[Roberts_x,Roberts_y]\n",
    "\n",
    "Prewitt_x=Prewitt_x.reshape(3,3)\n",
    "Prewitt_y=Prewitt_x.T\n",
    "Prewitt=[Prewitt_x,Prewitt_y]\n",
    "\n",
    "Sobel_x=Sobel_x.reshape(3,3)\n",
    "Sobel_y=Sobel_x.T\n",
    "Sobel=[Sobel_x,Sobel_y]\n",
    "\n",
    "\n",
    "\n",
    "Operators=[Roberts,Prewitt,Sobel]\n",
    "Operators_name=['Prewitt','Roberts','Sobel'] # 'Roberts','Prewitt',\n",
    "thrshold=[0.33,0.33,0.25]\n",
    "S=SEG()\n",
    "for imname in imnameset:\n",
    "    print(imname+'....')\n",
    "    I = IMG(imname)\n",
    "    img = I.load()\n",
    "    for k, op in enumerate(Operators):\n",
    "        print(Operators_name[k]+'.....')\n",
    "        edge_x=S.EdgeDtect(img,op[0])\n",
    "        I.save( edge_x,mark=Operators_name[k]+' _x')\n",
    "        edge_y=S.EdgeDtect(img,op[1])\n",
    "        I.save(edge_y,mark=Operators_name[k]+' _y')\n",
    "        edge=np.sqrt(edge_x**2+edge_y**2)\n",
    "        I.save(edge,mark=Operators_name[k])\n",
    "        edge_threshold=S.Threshold(edge,thrshold[k])\n",
    "        I.save(edge_threshold,mark=Operators_name[k]+'_'+str(int(thrshold[k]*100)))\n",
    "        \n",
    "        \n",
    "        \n",
    "        \n",
    "print('\\n==== Problem 1 done ====\\n')"
   ]
  },
  {
   "cell_type": "code",
   "execution_count": 42,
   "metadata": {},
   "outputs": [
    {
     "data": {
      "text/plain": [
       "211.07167029234407"
      ]
     },
     "execution_count": 42,
     "metadata": {},
     "output_type": "execute_result"
    }
   ],
   "source": [
    "thrshold=np.max(edge)*0.25\n",
    "thrshold\n"
   ]
  },
  {
   "cell_type": "code",
   "execution_count": 37,
   "metadata": {},
   "outputs": [
    {
     "data": {
      "text/plain": [
       "<matplotlib.image.AxesImage at 0x1b0d44935f8>"
      ]
     },
     "execution_count": 37,
     "metadata": {},
     "output_type": "execute_result"
    },
    {
     "data": {
      "image/png": "[encoded data removed]",
      "text/plain": [
       "<Figure size 432x288 with 1 Axes>"
      ]
     },
     "metadata": {},
     "output_type": "display_data"
    }
   ],
   "source": [
    "edge[edge<=thrshold]=0\n",
    "plt.imshow(edge)"
   ]
  },
  {
   "cell_type": "code",
   "execution_count": 105,
   "metadata": {},
   "outputs": [
    {
     "data": {
      "text/plain": [
       "array([[176., 170.],\n",
       "       [176., 168.]])"
      ]
     },
     "execution_count": 105,
     "metadata": {},
     "output_type": "execute_result"
    }
   ],
   "source": [
    "x=300\n",
    "y=120\n",
    "ROI=img[x:x+op.shape[0],y:y+op.shape[1]]\n",
    "ROI"
   ]
  },
  {
   "cell_type": "code",
   "execution_count": 13,
   "metadata": {},
   "outputs": [
    {
     "data": {
      "text/plain": [
       "'33'"
      ]
     },
     "execution_count": 13,
     "metadata": {},
     "output_type": "execute_result"
    }
   ],
   "source": [
    "str(int(thrshold[k]*100))"
   ]
  },
  {
   "cell_type": "code",
   "execution_count": 99,
   "metadata": {},
   "outputs": [
    {
     "data": {
      "text/plain": [
       "0.0"
      ]
     },
     "execution_count": 99,
     "metadata": {},
     "output_type": "execute_result"
    }
   ],
   "source": [
    " edge=np.zeros((img.shape[0]-op.shape[0]+1,img.shape[1]-op.shape[1]+1))\n",
    "for x in range(img.shape[0]-op.shape[0]+1):\n",
    "    for y in range(img.shape[1]-op.shape[1]+1):\n",
    "        ROI=img[x:x+op.shape[0],y:y+op.shape[1]]\n",
    "        edge[x,y]=np.sum(ROI*op)\n",
    "            "
   ]
  },
  {
   "cell_type": "code",
   "execution_count": 9,
   "metadata": {},
   "outputs": [
    {
     "ename": "IndentationError",
     "evalue": "expected an indented block (<ipython-input-9-b6683bfcc602>, line 56)",
     "output_type": "error",
     "traceback": [
      "\u001b[1;36m  File \u001b[1;32m\"<ipython-input-9-b6683bfcc602>\"\u001b[1;36m, line \u001b[1;32m56\u001b[0m\n\u001b[1;33m    print('\\n==== Problem 2 done ====\\n')\u001b[0m\n\u001b[1;37m                                         ^\u001b[0m\n\u001b[1;31mIndentationError\u001b[0m\u001b[1;31m:\u001b[0m expected an indented block\n"
     ]
    }
   ],
   "source": [
    "## -------------- P1----------------\n",
    "## Roberts, Prewitt, Sobel gradient operators， threshold\n",
    "print('\\n---Problem 1----\\n')\n",
    "imnameset = ['building_original','noisy_fingerprint']\n",
    "Roberts_x=np.array([-1,0,0,1])\n",
    "Roberts_y=np.array([0,-1,1,0])\n",
    "Prewitt_x=np.array([-1,-1,-1,0,0,0,1,1,1])\n",
    "Sobel_x=np.array([-1,-2,-1,0,0,0,1,2,1])\n",
    "\n",
    "Roberts_x=Roberts_x.reshape(2,2)\n",
    "Roberts_y=Roberts_y.reshape(2,2)\n",
    "\n",
    "Roberts=[Roberts_x,Roberts_y]\n",
    "\n",
    "Prewitt_x=Prewitt_x.reshape(3,3)\n",
    "Prewitt_y=Prewitt_x.T\n",
    "Prewitt=[Prewitt_x,Prewitt_y]\n",
    "\n",
    "Sobel_x=Sobel_x.reshape(3,3)\n",
    "Sobel_y=Sobel_x.T\n",
    "Sobel=[Sobel_x,Sobel_y]\n",
    "\n",
    "\n",
    "\n",
    "Operators=[Roberts,Prewitt,Sobel]\n",
    "S=SEG()\n",
    "for imname in imnameset:\n",
    "    I = IMG(imname)\n",
    "    img = I.load()\n",
    "    for op in Operators:\n",
    "        edge_x=S.EdgeDtect(img,op[0])\n",
    "        I.save( edge_x,mark=' edge_x')\n",
    "        edge_y=S.EdgeDtect(img,op[1])\n",
    "        I.save(edge_y,mark=' edge_y')\n",
    "        edge=np.sqrt(edge_x**2+edge_y**2)\n",
    "        I.save(edge,mark=' edge')\n",
    "        edge_threshold=S.Threshold(edge,thrshold)\n",
    "        I.save(edge_threshold,mark=' edge_threshold')\n",
    "        \n",
    "        \n",
    "        \n",
    "        \n",
    "print('\\n==== Problem 1 done ====\\n')\n",
    "\n",
    "\n",
    "## -------------- P2----------------\n",
    "print('\\n---Problem 2----\\n')\n",
    "# Canny edge detection and LoG detection\n",
    "imnameset=['headCT_Vandy' ,'noisy_fingerprint']\n",
    "Method=['Canny ','LoG']\n",
    "for imname in imnameset:\n",
    "    I = IMG(imname)\n",
    "    img = I.load()\n",
    "    for me in Method:\n",
    "        \n",
    "print('\\n==== Problem 2 done ====\\n')\n",
    "\n",
    "## -------------- P3----------------\n",
    "print('\\n---Problem 3----\\n')\n",
    "imnameset = ['polymersomes','noisy_fingerprint']\n",
    "for imname in imnameset:\n",
    "    I = IMG(imname)\n",
    "    img = I.load()\n",
    "    \n",
    "\n",
    "print('\\n==== Problem 3 done ====\\n')\n",
    "\n"
   ]
  },
  {
   "cell_type": "code",
   "execution_count": 6,
   "metadata": {},
   "outputs": [],
   "source": [
    "imname='building_original'\n",
    "I = IMG(imname)\n",
    "img = I.load()"
   ]
  },
  {
   "cell_type": "code",
   "execution_count": 66,
   "metadata": {},
   "outputs": [
    {
     "data": {
      "text/plain": [
       "array([[0., 0., 0., ..., 0., 0., 0.],\n",
       "       [0., 0., 0., ..., 0., 0., 0.],\n",
       "       [0., 0., 0., ..., 0., 0., 0.],\n",
       "       ...,\n",
       "       [0., 0., 0., ..., 0., 0., 0.],\n",
       "       [0., 0., 0., ..., 0., 0., 0.],\n",
       "       [0., 0., 0., ..., 0., 0., 0.]])"
      ]
     },
     "execution_count": 66,
     "metadata": {},
     "output_type": "execute_result"
    }
   ],
   "source": [
    "img"
   ]
  },
  {
   "cell_type": "code",
   "execution_count": 68,
   "metadata": {},
   "outputs": [
    {
     "data": {
      "text/plain": [
       "array([[0., 0., 0., ..., 0., 0., 0.],\n",
       "       [0., 0., 0., ..., 0., 0., 0.],\n",
       "       [0., 0., 0., ..., 0., 0., 0.],\n",
       "       ...,\n",
       "       [0., 0., 0., ..., 0., 0., 0.],\n",
       "       [0., 0., 0., ..., 0., 0., 0.],\n",
       "       [0., 0., 0., ..., 0., 0., 0.]])"
      ]
     },
     "execution_count": 68,
     "metadata": {},
     "output_type": "execute_result"
    }
   ],
   "source": [
    "I.save(img,mark='jk')"
   ]
  },
  {
   "cell_type": "code",
   "execution_count": 51,
   "metadata": {},
   "outputs": [],
   "source": [
    "import numpy as np\n",
    "Roberts_x=np.array([-1,0,0,1])\n",
    "Roberts_y=np.array([0,-1,1,0])\n",
    "Prewitt_x=np.array([-1,-1,-1,0,0,0,1,1,1])\n",
    "Sobel_x=np.array([-1,-2,-1,0,0,0,1,2,1])\n",
    "\n",
    "Roberts_x=Roberts_x.reshape(2,2)\n",
    "Roberts_y=Roberts_y.reshape(2,2)\n",
    "\n",
    "Roberts=[Roberts_x,Roberts_y]\n",
    "\n",
    "Prewitt_x=Prewitt_x.reshape(3,3)\n",
    "Prewitt_y=Prewitt_x.T\n",
    "Prewitt=[Prewitt_x,Prewitt_y]\n",
    "\n",
    "Sobel_x=Sobel_x.reshape(3,3)\n",
    "Sobel_y=Sobel_x.T\n",
    "Sobel=[Sobel_x,Sobel_y]"
   ]
  },
  {
   "cell_type": "code",
   "execution_count": 93,
   "metadata": {},
   "outputs": [
    {
     "data": {
      "text/plain": [
       "array([[0., 0., 0., 0., 0.],\n",
       "       [0., 0., 0., 0., 0.],\n",
       "       [0., 0., 0., 0., 0.],\n",
       "       [0., 0., 0., 0., 0.],\n",
       "       [0., 0., 0., 0., 0.]])"
      ]
     },
     "execution_count": 93,
     "metadata": {},
     "output_type": "execute_result"
    }
   ],
   "source": [
    "np.zeros((5,5))"
   ]
  },
  {
   "cell_type": "code",
   "execution_count": 92,
   "metadata": {},
   "outputs": [
    {
     "name": "stdout",
     "output_type": "stream",
     "text": [
      "Help on built-in function zeros in module numpy.core.multiarray:\n",
      "\n",
      "zeros(...)\n",
      "    zeros(shape, dtype=float, order='C')\n",
      "    \n",
      "    Return a new array of given shape and type, filled with zeros.\n",
      "    \n",
      "    Parameters\n",
      "    ----------\n",
      "    shape : int or sequence of ints\n",
      "        Shape of the new array, e.g., ``(2, 3)`` or ``2``.\n",
      "    dtype : data-type, optional\n",
      "        The desired data-type for the array, e.g., `numpy.int8`.  Default is\n",
      "        `numpy.float64`.\n",
      "    order : {'C', 'F'}, optional\n",
      "        Whether to store multidimensional data in C- or Fortran-contiguous\n",
      "        (row- or column-wise) order in memory.\n",
      "    \n",
      "    Returns\n",
      "    -------\n",
      "    out : ndarray\n",
      "        Array of zeros with the given shape, dtype, and order.\n",
      "    \n",
      "    See Also\n",
      "    --------\n",
      "    zeros_like : Return an array of zeros with shape and type of input.\n",
      "    ones_like : Return an array of ones with shape and type of input.\n",
      "    empty_like : Return an empty array with shape and type of input.\n",
      "    ones : Return a new array setting values to one.\n",
      "    empty : Return a new uninitialized array.\n",
      "    \n",
      "    Examples\n",
      "    --------\n",
      "    >>> np.zeros(5)\n",
      "    array([ 0.,  0.,  0.,  0.,  0.])\n",
      "    \n",
      "    >>> np.zeros((5,), dtype=int)\n",
      "    array([0, 0, 0, 0, 0])\n",
      "    \n",
      "    >>> np.zeros((2, 1))\n",
      "    array([[ 0.],\n",
      "           [ 0.]])\n",
      "    \n",
      "    >>> s = (2,2)\n",
      "    >>> np.zeros(s)\n",
      "    array([[ 0.,  0.],\n",
      "           [ 0.,  0.]])\n",
      "    \n",
      "    >>> np.zeros((2,), dtype=[('x', 'i4'), ('y', 'i4')]) # custom dtype\n",
      "    array([(0, 0), (0, 0)],\n",
      "          dtype=[('x', '<i4'), ('y', '<i4')])\n",
      "\n"
     ]
    }
   ],
   "source": [
    "help(np.zeros)"
   ]
  },
  {
   "cell_type": "code",
   "execution_count": 70,
   "metadata": {},
   "outputs": [
    {
     "data": {
      "text/plain": [
       "255.0"
      ]
     },
     "execution_count": 70,
     "metadata": {},
     "output_type": "execute_result"
    }
   ],
   "source": [
    "np.max(img)"
   ]
  },
  {
   "cell_type": "code",
   "execution_count": 72,
   "metadata": {},
   "outputs": [],
   "source": [
    "edge=img"
   ]
  },
  {
   "cell_type": "code",
   "execution_count": 74,
   "metadata": {},
   "outputs": [],
   "source": [
    "edge[edge >5]=0"
   ]
  },
  {
   "cell_type": "code",
   "execution_count": 75,
   "metadata": {},
   "outputs": [],
   "source": [
    "a=np.array([1,2,3,4,5])\n",
    "a[a>1.5]=9.9"
   ]
  },
  {
   "cell_type": "code",
   "execution_count": 78,
   "metadata": {},
   "outputs": [
    {
     "data": {
      "text/plain": [
       "array([ True, False, False, False, False])"
      ]
     },
     "execution_count": 78,
     "metadata": {},
     "output_type": "execute_result"
    }
   ],
   "source": [
    "a<=1"
   ]
  },
  {
   "cell_type": "code",
   "execution_count": 79,
   "metadata": {},
   "outputs": [
    {
     "data": {
      "text/plain": [
       "range(0, 5)"
      ]
     },
     "execution_count": 79,
     "metadata": {},
     "output_type": "execute_result"
    }
   ],
   "source": [
    "range(5)"
   ]
  },
  {
   "cell_type": "code",
   "execution_count": 80,
   "metadata": {},
   "outputs": [
    {
     "ename": "TypeError",
     "evalue": "list indices must be integers or slices, not tuple",
     "output_type": "error",
     "traceback": [
      "\u001b[1;31m---------------------------------------------------------------------------\u001b[0m",
      "\u001b[1;31mTypeError\u001b[0m                                 Traceback (most recent call last)",
      "\u001b[1;32m<ipython-input-80-d8d1bd2cab82>\u001b[0m in \u001b[0;36m<module>\u001b[1;34m()\u001b[0m\n\u001b[0;32m      1\u001b[0m \u001b[0mb\u001b[0m\u001b[1;33m=\u001b[0m\u001b[1;33m[\u001b[0m\u001b[1;33m]\u001b[0m\u001b[1;33m\u001b[0m\u001b[0m\n\u001b[1;32m----> 2\u001b[1;33m \u001b[0mb\u001b[0m\u001b[1;33m[\u001b[0m\u001b[1;36m1\u001b[0m\u001b[1;33m,\u001b[0m\u001b[1;36m1\u001b[0m\u001b[1;33m]\u001b[0m\u001b[1;33m=\u001b[0m\u001b[1;36m3\u001b[0m\u001b[1;33m\u001b[0m\u001b[0m\n\u001b[0m",
      "\u001b[1;31mTypeError\u001b[0m: list indices must be integers or slices, not tuple"
     ]
    }
   ],
   "source": [
    "b=[]\n",
    "b[1,1]=3"
   ]
  },
  {
   "cell_type": "code",
   "execution_count": null,
   "metadata": {},
   "outputs": [],
   "source": []
  }
 ],
 "metadata": {
  "kernelspec": {
   "display_name": "Python 3",
   "language": "python",
   "name": "python3"
  },
  "language_info": {
   "codemirror_mode": {
    "name": "ipython",
    "version": 3
   },
   "file_extension": ".py",
   "mimetype": "text/x-python",
   "name": "python",
   "nbconvert_exporter": "python",
   "pygments_lexer": "ipython3",
   "version": "3.6.5"
  }
 },
 "nbformat": 4,
 "nbformat_minor": 2
}
