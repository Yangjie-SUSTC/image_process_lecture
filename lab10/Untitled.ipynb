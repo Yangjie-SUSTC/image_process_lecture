{
 "cells": [
  {
   "cell_type": "code",
   "execution_count": 29,
   "metadata": {},
   "outputs": [],
   "source": [
    "#!/usr/bin/python3\n",
    "# -*- coding: utf-8 -*-\n",
    "'''\n",
    " @File  : lab9.py\n",
    " @Author: Yangjie\n",
    " @license : Copyright(C), SUSTech,Shenzhen,China\n",
    " @Contact : yangj3@mail.sustc.edu.cn\n",
    " @Date  : 2018/11/20\n",
    " @IDE : PyCharm\n",
    " @Desc  : this code is lab9 in image and video process. it has different ops to detect edge, and canny, log ,global threshold\n",
    " '''\n",
    "import cv2\n",
    "import numpy as np\n",
    "import math\n",
    "import os\n",
    "import matplotlib.pyplot as plt\n",
    "from skimage import measure\n",
    "from copy import deepcopy as dcp\n",
    "\n",
    "\n",
    "class IMG:\n",
    "    def __init__(self, name, mark=None):\n",
    "        self.path = 'D:\\graduated\\Image_process\\lab\\PGM_images\\\\'\n",
    "        self.savepath = 'D:\\graduated\\Image_process\\lab\\lab_report\\lab10\\imagesave\\\\'\n",
    "        self.name = name\n",
    "        self.prop = '.pgm'\n",
    "        self.mark = mark\n",
    "        # self.img=None\n",
    "        if os.path.exists(self.savepath):\n",
    "            pass   \n",
    "        else:\n",
    "            os.mkdir(self.savepath)\n",
    "        \n",
    "\n",
    "    def load(self):\n",
    "        self.imapath = self.path + self.name + self.prop\n",
    "        self.img = np.float64(cv2.imread(self.imapath, 0))\n",
    "        self.save(self.img, 'original')\n",
    "        return self.img\n",
    "\n",
    "    def save(self, img, mark=None, flag=0):\n",
    "        if flag:\n",
    "            img = cv2.equalizeHist(np.uint8(img))\n",
    "        self.mark = mark\n",
    "        savepath = self.savepath + self.name + '_' + self.mark + '.jpg'\n",
    "        cv2.imwrite(savepath, img)\n",
    "        return img\n",
    "    \n",
    "    def disp(self,winName,img,sizeflag=cv2.WINDOW_NORMAL):\n",
    "        img=cv2.equalizeHist(np.uint8(img))\n",
    "        if sizeflag==1:\n",
    "            sizeflag=cv2.WINDOW_AUTOSIZE\n",
    "        cv2.namedWindow(winName,sizeflag)\n",
    "        cv2.imshow(winName,img) \n",
    "        cv2.waitKey(0)\n",
    "        cv2.destroyWindow(winName)\n",
    "        return img\n",
    "    \n",
    "    def psave(self,img,mark=None,cb=0): # shown image in windows and save\n",
    "        fig = plt.gcf() \n",
    "        plt.imshow(img,cmap='gray')\n",
    "        if cb:\n",
    "            plt.colorbar()\n",
    "        plt.xticks([]), plt.yticks([])\n",
    "        savepath=self.savepath+self.name+'_'+mark+'.jpg'\n",
    "        fig.savefig(savepath,dpi=500,bbox_inches='tight')\n",
    "        plt.close()\n",
    "        \n",
    "    def fsave(self,fig,mark=None): # save plot fihiure\n",
    "        #plt.xticks([]), plt.yticks([])\n",
    "        savepath=self.savepath+self.name+'_'+mark+'.jpg'\n",
    "        fig.savefig(savepath,dpi=500,bbox_inches='tight')\n",
    "        plt.close()\n",
    "    \n",
    "    def histsave(self, img,Mark):\n",
    "        fig = plt.gcf() \n",
    "        plt.hist(img.ravel(),256);\n",
    "        plt.xlabel('Intensity')\n",
    "        plt.ylabel('Count')\n",
    "        self.fsave(fig,mark=Mark+'_hist')\n",
    "\n",
    "\n",
    "class SEG:\n",
    "    def __init__(self):\n",
    "        self.name = 'Segmentation'\n",
    "\n",
    "    def EdgeDtect(self, img, opname, part=None):\n",
    "        Roberts_x = np.array([-1, 0, 0, 1])\n",
    "        Roberts_y = np.array([0, -1, 1, 0])\n",
    "        Prewitt_x = np.array([-1, -1, -1, 0, 0, 0, 1, 1, 1])\n",
    "        Sobel_x = np.array([-1, -2, -1, 0, 0, 0, 1, 2, 1])\n",
    "\n",
    "        Roberts_x = Roberts_x.reshape(2, 2)\n",
    "        Roberts_y = Roberts_y.reshape(2, 2)\n",
    "        Roberts = [Roberts_x, Roberts_y]\n",
    "\n",
    "        Prewitt_x = Prewitt_x.reshape(3, 3)\n",
    "        Prewitt_y = Prewitt_x.T\n",
    "        Prewitt = [Prewitt_x, Prewitt_y]\n",
    "\n",
    "        Sobel_x = Sobel_x.reshape(3, 3)\n",
    "        Sobel_y = Sobel_x.T\n",
    "        Sobel = [Sobel_x, Sobel_y]\n",
    "\n",
    "        op_lib = {'Roberts': Roberts, 'Prewitt': Prewitt, 'Sobel': Sobel}\n",
    "        op_set = op_lib[opname]\n",
    "        edge = np.zeros((img.shape[0] - op_set[0].shape[0] + 1, img.shape[1] - op_set[0].shape[1] + 1))\n",
    "        if part is None:\n",
    "            for k, op in enumerate(op_set):\n",
    "                temp = np.zeros((img.shape[0] - op.shape[0] + 1, img.shape[1] - op.shape[1] + 1))\n",
    "                for x in range(img.shape[0] - op.shape[0] + 1):\n",
    "                    for y in range(img.shape[1] - op.shape[1] + 1):\n",
    "                        ROI = img[x:x + op.shape[0], y:y + op.shape[1]]\n",
    "                        temp[x, y] = np.sum(ROI * op)\n",
    "                edge += temp ** 2\n",
    "\n",
    "            edge = np.power(edge, 1 / (k + 1))\n",
    "            return (edge)\n",
    "\n",
    "        else:\n",
    "            op = op_set[part]\n",
    "            for x in range(img.shape[0] - op.shape[0] + 1):\n",
    "                for y in range(img.shape[1] - op.shape[1] + 1):\n",
    "                    ROI = img[x:x + op.shape[0], y:y + op.shape[1]]\n",
    "                    edge[x, y] = np.sum(ROI * op)\n",
    "            return (edge)\n",
    "\n",
    "\n",
    "    def Threshold(self, edge, thrshold, percent=1):\n",
    "        if percent:  # thrshold is percentage\n",
    "            thrshold = np.max(edge) * thrshold\n",
    "        aim = edge > thrshold\n",
    "        edge[aim] = 255\n",
    "        edge[~aim] = 0\n",
    "        return (edge)\n",
    "\n",
    "    def  OTSU(self, img):\n",
    "        hist = cv2.calcHist([img],[0],None,[256],[0,256]).reshape(-1,)\n",
    "        TotalNum=sum(hist)\n",
    "        TotalSum=np.sum(hist*range(256))\n",
    "        BackCount=0\n",
    "        SumBack=0\n",
    "        SumFront=0\n",
    "        Maxsigma=0\n",
    "        for k in range(256):\n",
    "            Num=hist[k]\n",
    "            BackCount += Num\n",
    "            FrontCount=TotalNum-BackCount\n",
    "            if (FrontCount ==0):\n",
    "                break\n",
    "            elif (BackCount* Num ==0):\n",
    "                continue\n",
    "            SumBack += k* Num\n",
    "            MeanBack = SumBack/BackCount\n",
    "            MeanFront = (TotalSum-SumBack)/FrontCount\n",
    "            sigma=BackCount*FrontCount*(MeanBack-MeanFront )**2\n",
    "            if (sigma >= Maxsigma):\n",
    "                Threshold = k\n",
    "                Maxsigma = sigma\n",
    "        ret,thimage=cv2.threshold(img,Threshold,255,cv2.THRESH_BINARY)    \n",
    "        return (Threshold, thimage)\n",
    "    \n",
    "    def Partition(self, img,row,col,I):\n",
    "        row_index=np.linspace(0,img.shape[0],row+1)\n",
    "        col_index=np.linspace(0,img.shape[1],col+1)\n",
    "        Thrimg=np.zeros(img.shape)\n",
    "        for rowCount in range(row):\n",
    "            for colCount in range(col):\n",
    "                lx=int(row_index[rowCount ])\n",
    "                rx=int(row_index[rowCount +1])\n",
    "                ly=int(col_index[colCount ])\n",
    "                ry=int(col_index[colCount +1])\n",
    "                part=img[lx:rx,ly:ry]\n",
    "                threshold, Thrpart=S.OTSU(part)\n",
    "                Thrimg[lx:rx,ly:ry]=Thrpart\n",
    "                I.histsave(part,Mark='sub_'+str(rowCount)+'_'+str(colCount)+'_Threshold_'+str(threshold))\n",
    "\n",
    "        for rowline in row_index[1:-1]:\n",
    "            img[int(rowline)]=255\n",
    "        for colline in col_index[1:-1]:\n",
    "            img[:,int(colline)]=255\n",
    "        return (Thrimg, img)\n",
    "    \n",
    "    def moving_average_thresholding (self,img,n=20,b=0.5):\n",
    "        ima=img[:]\n",
    "        for k, row in enumerate(ima):\n",
    "            if k%2:\n",
    "                ima[k,:]=row[::-1]\n",
    "        ima=ima.reshape(-1,)\n",
    "        m=0\n",
    "        Threshold=[]\n",
    "        pada=np.hstack((np.zeros(n),ima))\n",
    "        for k,p in enumerate(ima):\n",
    "            m += b*(pada[k+n]-pada[k])/n\n",
    "            Threshold.append(m)\n",
    "        ima[ima<Threshold]=0\n",
    "        ima[~(ima<Threshold)]=255\n",
    "        ima=ima.reshape(img.shape)\n",
    "\n",
    "        for k, row in enumerate(ima):\n",
    "            if k%2:\n",
    "                ima[k,:]=row[::-1]\n",
    "        return (ima)\n",
    "    \n",
    "    def EroTonePiont(self, img):\n",
    "        kernel = np.ones((3,3),np.uint8)\n",
    "        onePointImg=np.zeros(img.shape)\n",
    "        X=[]\n",
    "        Y=[]\n",
    "        label_image,num = measure.label(img, return_num=True)\n",
    "        for k in range(1,num+1):\n",
    "            connet=np.zeros(img.shape)\n",
    "            x,y= np.where(label_image==k)\n",
    "            r=int(np.floor(len(x)/2))\n",
    "            X.append(x[r])\n",
    "            Y.append(y[r])\n",
    "        for x,y in zip(X,Y):\n",
    "            onePointImg [x,y]=255\n",
    "        dilation = cv2.dilate(onePointImg,kernel,iterations = 1)\n",
    "        return(np.uint8(onePointImg),dilation)\n",
    "    \n",
    "    def doubleThr(self,img,T1,T2):\n",
    "        src=np.zeros(img.shape)\n",
    "        src[img>=T1]=100\n",
    "        src[img>=T2]=255\n",
    "        return(src)\n",
    "    \n",
    "    def connect_detec_point(self, A, EM, x, y,visual=0):\n",
    "        Xk_1 = A * 0\n",
    "        Xk = dcp(Xk_1)\n",
    "        Xk[x, y] = 255;\n",
    "        if visual:\n",
    "            winName = 'find connect'\n",
    "            cv2.namedWindow(winName, cv2.WINDOW_NORMAL)\n",
    "        while (Xk != Xk_1).any():\n",
    "            if visual:\n",
    "                cv2.imshow(winName, Xk)\n",
    "                cv2.waitKey(10)\n",
    "            # |cv2.destroyWindow(winName)\n",
    "            Xk_1 = Xk\n",
    "            #temp = self.dilation(Xk_1, EM)\n",
    "            temp = cv2.dilate(Xk_1,EM,iterations = 1)\n",
    "            Xk = cv2.bitwise_and(dcp(temp), dcp(A))\n",
    "        if visual:\n",
    "            cv2.waitKey(100)\n",
    "            cv2.destroyWindow(winName)\n",
    "        return  Xk\n",
    "    \n",
    "    \n",
    "    def connect_detec(self, A, EM, Seed,visual=0):\n",
    "        Connect_set = A * 0\n",
    "        result = A * 0\n",
    "        if visual:\n",
    "            winName1 = 'Seed'\n",
    "            cv2.namedWindow(winName1, cv2.WINDOW_NORMAL)\n",
    "        while Seed.any():\n",
    "           \n",
    "            X, Y = np.where(Seed == 255)\n",
    "            Conect = self.connect_detec_point(A, EM, X[0], Y[0],visual)\n",
    "            result += Conect \n",
    "            if visual:\n",
    "                cv2.imshow(winName1, result)\n",
    "            Conect_inv = cv2.bitwise_not(Conect)\n",
    "            Seed = cv2.bitwise_and(Seed, Conect_inv)\n",
    "        \n",
    "        if visual:\n",
    "            cv2.waitKey(3000)\n",
    "            cv2.destroyWindow(winName1)\n",
    "        return result\n",
    "\n"
   ]
  },
  {
   "cell_type": "code",
   "execution_count": 84,
   "metadata": {},
   "outputs": [
    {
     "name": "stdout",
     "output_type": "stream",
     "text": [
      "\n",
      "---Problem 4----\n",
      "\n",
      "defective_weld....\n",
      "\tregion_growing\n",
      "noisy_region....\n",
      "\tregion_growing\n",
      "\n",
      "==== Problem 4 done ====\n",
      "\n"
     ]
    }
   ],
   "source": [
    "if  __name__ == '__main__':\n",
    "    p1=0\n",
    "    p2=0\n",
    "    p3=0\n",
    "    p4=1\n",
    "\n",
    "\n",
    "    if p1 :\n",
    "        print('\\n---Problem 1----\\n')\n",
    "        imname = 'large_septagon_gaussian_noise_mean_0_std_50_added'\n",
    "        Op_name = ['original', 'smoothed']\n",
    "        I = IMG(imname)\n",
    "        oimg =np.uint8( I.load())\n",
    "        blur = cv2.blur(oimg,(5,5))\n",
    "        I.save(blur,mark='smoothed')\n",
    "        imgset=[oimg,blur]\n",
    "        S = SEG()\n",
    "        for k,method in enumerate(Op_name):\n",
    "            print(method + '....')\n",
    "            img=imgset[k]\n",
    "            I.histsave(img,method)\n",
    "            Threshold, thimage=S.OTSU(img)\n",
    "            I.save(thimage, mark=method+'_'+str(int(Threshold)))\n",
    "            ret2,th2 = cv2.threshold(img,0,255,cv2.THRESH_BINARY+cv2.THRESH_OTSU)\n",
    "            I.save(th2, mark=method+'_opencv_'+str(int(ret2)))\n",
    "            \n",
    "        print('\\n==== Problem 1 done ====\\n')\n",
    "\n",
    "    if p2:\n",
    "        print('\\n---Problem 2----\\n')\n",
    "        imnameset = ['septagon_noisy_shaded']\n",
    "        methodset = ['Partition', 'Otsu']\n",
    "        S = SEG()\n",
    "        for k,imname in enumerate(imnameset):\n",
    "            print(imname + '....')\n",
    "            I = IMG(imname)\n",
    "            img = np.uint8( I.load())\n",
    "            I.histsave(img,'' )\n",
    "            for method in methodset:\n",
    "                print('\\t' + method)\n",
    "                if method == 'Partition':\n",
    "                    Thrimg,lineimg=S.Partition( img,2,3,I)\n",
    "                    I.save(Thrimg,mark=method)\n",
    "                    I.save(lineimg, mark=method+'_line')\n",
    "                elif method == 'Otsu':\n",
    "                    Threshold, thimage=S.OTSU(img)\n",
    "                    I.save(thimage, mark=method+'_'+str(int(Threshold)))\n",
    "        print('\\n==== Problem 2 done ====\\n')\n",
    "\n",
    "\n",
    "    if p3 :\n",
    "        ## -------------- P3----------------\n",
    "        print('\\n---Problem 3----\\n')\n",
    "        imnameset = ['spot_shaded_text_image']\n",
    "        methodset = ['moving_average_thresholding']\n",
    "        S = SEG()\n",
    "        for k,imname in enumerate(imnameset):\n",
    "            print(imname + '....')\n",
    "            I = IMG(imname)\n",
    "            img = I.load()\n",
    "            for method in methodset:\n",
    "                print('\\t' + method)\n",
    "                thimage=S.moving_average_thresholding (img)\n",
    "                I.save(thimage, mark=method)\n",
    "                \n",
    "                \n",
    "        print('\\n==== Problem 3 done ====\\n')\n",
    "\n",
    "        \n",
    "    if p4 :\n",
    "        ## -------------- P3----------------\n",
    "        print('\\n---Problem 4----\\n')\n",
    "        imnameset = ['defective_weld','noisy_region']#\n",
    "        methodset = ['region_growing']\n",
    "        S=SEG()\n",
    "        for k,imname in enumerate(imnameset):\n",
    "            print(imname + '....')\n",
    "            I = IMG(imname)\n",
    "            img = np.uint8(I.load())\n",
    "            for method in methodset:\n",
    "                print('\\t' + method)\n",
    "                I.histsave(img,Mark='orignal')\n",
    "                if imname=='defective_weld':\n",
    "                    ret2,thimg = cv2.threshold(img,254,255,cv2.THRESH_BINARY)\n",
    "                    I.save(thimg,mark='Thr_254')\n",
    "                    seed,dilation=S.EroTonePiont(thimg)\n",
    "                    I.save(dilation,mark='oneP')\n",
    "                    diff_img=abs(thimg-img)\n",
    "                    I.save(diff_img,mark='dif_abs')\n",
    "                    I.histsave(diff_img,Mark='dif_abs')\n",
    "                    double_img=S.doubleThr(diff_img,68,126)\n",
    "                    I.save(double_img,mark='double_thr')\n",
    "                    ret2,thimg2 = cv2.threshold(double_img,68,255,cv2.THRESH_BINARY)\n",
    "                    I.save(thimg2,mark='diff_thr')\n",
    "                    Q=cv2.bitwise_not(np.uint8(thimg2))\n",
    "                    \n",
    "                else:\n",
    "                    SEED=np.zeros(img.shape)\n",
    "                    SEED[abs(img-127)>10]=255\n",
    "                    seed,dilation=S.EroTonePiont(SEED)\n",
    "                    blur = cv2.blur(img,(5,5))\n",
    "                    I.save(blur,mark='blur')\n",
    "                    Q=np.zeros(img.shape,dtype=np.uint8)\n",
    "                    Q[abs(blur-127)>1]=255\n",
    "                    \n",
    "                kernel=cv2.getStructuringElement(cv2.MORPH_RECT,(3,3))\n",
    "                result=S.connect_detec(Q, kernel, seed,visual=0)\n",
    "                I.save(result,mark='final')      \n",
    "        print('\\n==== Problem 4 done ====\\n')\n",
    "\n",
    "\n",
    "\n",
    "\n",
    "\n"
   ]
  },
  {
   "cell_type": "code",
   "execution_count": 80,
   "metadata": {},
   "outputs": [
    {
     "data": {
      "text/plain": [
       "array([[0, 0, 0, ..., 0, 0, 0],\n",
       "       [0, 0, 0, ..., 0, 0, 0],\n",
       "       [0, 0, 0, ..., 0, 0, 0],\n",
       "       ...,\n",
       "       [0, 0, 0, ..., 0, 0, 0],\n",
       "       [0, 0, 0, ..., 0, 0, 0],\n",
       "       [0, 0, 0, ..., 0, 0, 0]], dtype=uint8)"
      ]
     },
     "execution_count": 80,
     "metadata": {},
     "output_type": "execute_result"
    }
   ],
   "source": [
    "Q=np.zeros(img.shape,dtype=np.uint8)\n",
    "Q"
   ]
  },
  {
   "cell_type": "code",
   "execution_count": 62,
   "metadata": {},
   "outputs": [
    {
     "data": {
      "text/plain": [
       "array([[0, 0, 0, ..., 0, 0, 0],\n",
       "       [0, 0, 0, ..., 0, 0, 0],\n",
       "       [0, 0, 0, ..., 0, 0, 0],\n",
       "       ...,\n",
       "       [0, 0, 0, ..., 0, 0, 0],\n",
       "       [0, 0, 0, ..., 0, 0, 0],\n",
       "       [0, 0, 0, ..., 0, 0, 0]], dtype=uint8)"
      ]
     },
     "execution_count": 62,
     "metadata": {},
     "output_type": "execute_result"
    }
   ],
   "source": [
    "SEED=np.zeros(img.shape,dtype=np.uint8)\n",
    "SEED"
   ]
  },
  {
   "cell_type": "code",
   "execution_count": 71,
   "metadata": {},
   "outputs": [
    {
     "data": {
      "text/plain": [
       "<matplotlib.image.AxesImage at 0x195557eb2b0>"
      ]
     },
     "execution_count": 71,
     "metadata": {},
     "output_type": "execute_result"
    },
    {
     "data": {
      "image/png": "[encoded data removed]",
      "text/plain": [
       "<Figure size 432x288 with 1 Axes>"
      ]
     },
     "metadata": {},
     "output_type": "display_data"
    }
   ],
   "source": [
    "\n",
    "\n",
    "plt.imshow(Q)"
   ]
  },
  {
   "cell_type": "code",
   "execution_count": 6,
   "metadata": {},
   "outputs": [],
   "source": [
    "A=Q\n",
    "Seed=seed\n",
    "EM=kernel\n",
    "\n",
    "Connect_set = A * 0\n",
    "result = A * 0\n",
    "X, Y = np.where(Seed == 255)\n",
    "Conect = S.connect_detec_point(A, EM, X[0], Y[0])\n",
    "result += Conect \n",
    "\n",
    "\n",
    "\n",
    "\n",
    "\n"
   ]
  },
  {
   "cell_type": "code",
   "execution_count": 11,
   "metadata": {},
   "outputs": [
    {
     "data": {
      "text/plain": [
       "array([[0., 0., 0., ..., 0., 0., 0.],\n",
       "       [0., 0., 0., ..., 0., 0., 0.],\n",
       "       [0., 0., 0., ..., 0., 0., 0.],\n",
       "       ...,\n",
       "       [0., 0., 0., ..., 0., 0., 0.],\n",
       "       [0., 0., 0., ..., 0., 0., 0.],\n",
       "       [0., 0., 0., ..., 0., 0., 0.]])"
      ]
     },
     "execution_count": 11,
     "metadata": {},
     "output_type": "execute_result"
    }
   ],
   "source": [
    "Conect_inv = cv2.bitwise_not(Conect)\n",
    "Seed"
   ]
  },
  {
   "cell_type": "code",
   "execution_count": null,
   "metadata": {},
   "outputs": [],
   "source": [
    "x=X[0]\n",
    "y=Y[0]\n",
    "Xk_1 = A * 0\n",
    "Xk = dcp(Xk_1)\n",
    "Xk[x, y] = 255\n",
    "Xk_1 = Xk\n",
    "temp = cv2.dilate(Xk_1,EM,iterations = 1)\n",
    "Xk = cv2.bitwise_and(dcp(temp), dcp(A))"
   ]
  },
  {
   "cell_type": "code",
   "execution_count": 425,
   "metadata": {},
   "outputs": [
    {
     "data": {
      "text/plain": [
       "254"
      ]
     },
     "execution_count": 425,
     "metadata": {},
     "output_type": "execute_result"
    }
   ],
   "source": [
    "Connect_set = A * 0\n",
    "result = A * 0\n",
    "if visual:\n",
    "    winName1 = 'Seed'\n",
    "    cv2.namedWindow(winName1, cv2.WINDOW_NORMAL)\n",
    "while Seed.any():\n",
    "\n",
    "    X, Y = np.where(Seed == 255)\n",
    "    Conect = self.connect_detec_point(A, EM, X[0], Y[0])\n",
    "    result += Conect \n",
    "    if visual:\n",
    "        cv2.imshow(winName1, result)\n",
    "    Conect_inv = cv2.bitwise_not(Conect)\n",
    "    Seed = cv2.bitwise_and(Seed, Conect_inv)\n",
    "print('Catch %d connected component' % len(result))\n",
    "if visual:\n",
    "    cv2.waitKey(1)\n",
    "    cv2.destroyWindow(winName1)\n",
    "\n",
    "\n",
    "    \n",
    "        \n",
    "    \n",
    "    "
   ]
  },
  {
   "cell_type": "code",
   "execution_count": null,
   "metadata": {},
   "outputs": [],
   "source": [
    "Xk_1 = Xk\n",
    "temp = cv2.dilate(Xk_1,EM,iterations = 1)\n",
    "Xk = cv2.bitwise_and(dcp(temp), dcp(A))\n"
   ]
  },
  {
   "cell_type": "code",
   "execution_count": 400,
   "metadata": {},
   "outputs": [
    {
     "data": {
      "text/plain": [
       "<matplotlib.image.AxesImage at 0x1d88f7da240>"
      ]
     },
     "execution_count": 400,
     "metadata": {},
     "output_type": "execute_result"
    },
    {
     "data": {
      "image/png": "[encoded data removed]",
      "text/plain": [
       "<Figure size 432x288 with 1 Axes>"
      ]
     },
     "metadata": {},
     "output_type": "display_data"
    }
   ],
   "source": [
    "Xk_1 = A * 0\n",
    "Xk = dcp(Xk_1)\n",
    "Xk[x, y] = 255;\n",
    "if visual:\n",
    "    winName = 'find connect'\n",
    "    cv2.namedWindow(winName, cv2.WINDOW_NORMAL)\n",
    "while (Xk != Xk_1).any():\n",
    "    if visual:\n",
    "        cv2.imshow(winName, Xk)\n",
    "        cv2.waitKey(1)\n",
    "    # |cv2.destroyWindow(winName)\n",
    "    Xk_1 = Xk\n",
    "    #temp = self.dilation(Xk_1, EM)\n",
    "    temp = cv2.dilate(Xk_1,EM,iterations = 1)\n",
    "    Xk = cv2.bitwise_and(dcp(temp), dcp(A))\n",
    "if visual:\n",
    "    cv2.waitKey(1)\n",
    "    cv2.destroyWindow(winName)\n",
    "    "
   ]
  },
  {
   "cell_type": "code",
   "execution_count": 389,
   "metadata": {},
   "outputs": [
    {
     "data": {
      "text/plain": [
       "array([500, 500, 499, 500, 501, 502, 503, 504, 505, 506], dtype=int64)"
      ]
     },
     "execution_count": 389,
     "metadata": {},
     "output_type": "execute_result"
    }
   ],
   "source": [
    "x,y= np.where(label_image==3)\n",
    "x.sort()\n",
    "y.sort()\n",
    "r=area"
   ]
  },
  {
   "cell_type": "code",
   "execution_count": 395,
   "metadata": {},
   "outputs": [],
   "source": [
    "[].append(x[1])\n"
   ]
  },
  {
   "cell_type": "code",
   "execution_count": 372,
   "metadata": {},
   "outputs": [
    {
     "data": {
      "text/plain": [
       "<matplotlib.image.AxesImage at 0x1d8921adef0>"
      ]
     },
     "execution_count": 372,
     "metadata": {},
     "output_type": "execute_result"
    },
    {
     "data": {
      "image/png": "[encoded data removed]",
      "text/plain": [
       "<Figure size 432x288 with 1 Axes>"
      ]
     },
     "metadata": {},
     "output_type": "display_data"
    }
   ],
   "source": []
  },
  {
   "cell_type": "code",
   "execution_count": null,
   "metadata": {},
   "outputs": [],
   "source": []
  },
  {
   "cell_type": "code",
   "execution_count": 259,
   "metadata": {},
   "outputs": [
    {
     "data": {
      "text/plain": [
       "<matplotlib.image.AxesImage at 0x1d8ed79b400>"
      ]
     },
     "execution_count": 259,
     "metadata": {},
     "output_type": "execute_result"
    },
    {
     "data": {
      "image/png": "[encoded data removed]",
      "text/plain": [
       "<Figure size 432x288 with 1 Axes>"
      ]
     },
     "metadata": {},
     "output_type": "display_data"
    }
   ],
   "source": [
    "plt.imshow(ima)"
   ]
  },
  {
   "cell_type": "code",
   "execution_count": 256,
   "metadata": {},
   "outputs": [
    {
     "data": {
      "text/plain": [
       "<matplotlib.image.AxesImage at 0x1d881b5f860>"
      ]
     },
     "execution_count": 256,
     "metadata": {},
     "output_type": "execute_result"
    },
    {
     "data": {
      "image/png": "[encoded data removed]",
      "text/plain": [
       "<Figure size 432x288 with 1 Axes>"
      ]
     },
     "metadata": {},
     "output_type": "display_data"
    }
   ],
   "source": [
    "plt.imshow(img)\n"
   ]
  },
  {
   "cell_type": "code",
   "execution_count": 166,
   "metadata": {},
   "outputs": [
    {
     "data": {
      "text/plain": [
       "array([ 0.,  0.,  0.,  0.,  0.,  0.,  0.,  0.,  0.,  0.,  0.,  0.,  0.,\n",
       "        0.,  0.,  0.,  0.,  0.,  0.,  0.,  1.,  2.,  3.,  6.,  5.,  4.,\n",
       "        7.,  8.,  9., 11., 10.,  9.])"
      ]
     },
     "execution_count": 166,
     "metadata": {},
     "output_type": "execute_result"
    }
   ],
   "source": [
    "a"
   ]
  },
  {
   "cell_type": "code",
   "execution_count": 24,
   "metadata": {},
   "outputs": [
    {
     "data": {
      "text/plain": [
       "118.0"
      ]
     },
     "execution_count": 24,
     "metadata": {},
     "output_type": "execute_result"
    }
   ],
   "source": [
    "ret2,th2 = cv2.threshold(img,0,255,cv2.THRESH_BINARY+cv2.THRESH_OTSU)\n",
    "ret2"
   ]
  },
  {
   "cell_type": "code",
   "execution_count": 31,
   "metadata": {},
   "outputs": [
    {
     "data": {
      "text/plain": [
       "118"
      ]
     },
     "execution_count": 31,
     "metadata": {},
     "output_type": "execute_result"
    }
   ],
   "source": [
    "Threshold"
   ]
  },
  {
   "cell_type": "code",
   "execution_count": 32,
   "metadata": {},
   "outputs": [
    {
     "data": {
      "text/plain": [
       "118.0"
      ]
     },
     "execution_count": 32,
     "metadata": {},
     "output_type": "execute_result"
    }
   ],
   "source": [
    "ret2"
   ]
  },
  {
   "cell_type": "code",
   "execution_count": 27,
   "metadata": {},
   "outputs": [
    {
     "data": {
      "text/plain": [
       "<matplotlib.image.AxesImage at 0x1d8ed7901d0>"
      ]
     },
     "execution_count": 27,
     "metadata": {},
     "output_type": "execute_result"
    },
    {
     "data": {
      "image/png": "[encoded data removed]",
      "text/plain": [
       "<Figure size 432x288 with 1 Axes>"
      ]
     },
     "metadata": {},
     "output_type": "display_data"
    }
   ],
   "source": [
    "ret,th1=cv2.threshold(img,118,255,cv2.THRESH_BINARY)\n",
    "plt.imshow(th1)"
   ]
  },
  {
   "cell_type": "code",
   "execution_count": 30,
   "metadata": {},
   "outputs": [
    {
     "data": {
      "text/plain": [
       "array([[  0, 255,   0, ..., 255,   0, 255],\n",
       "       [  0,   0,   0, ...,   0,   0, 255],\n",
       "       [  0,   0,   0, ..., 255,   0,   0],\n",
       "       ...,\n",
       "       [  0,   0, 255, ...,   0,   0,   0],\n",
       "       [  0,   0,   0, ...,   0,   0,   0],\n",
       "       [  0,   0,   0, ..., 255,   0,   0]], dtype=uint8)"
      ]
     },
     "execution_count": 30,
     "metadata": {},
     "output_type": "execute_result"
    }
   ],
   "source": [
    "th1"
   ]
  },
  {
   "cell_type": "code",
   "execution_count": 65,
   "metadata": {},
   "outputs": [
    {
     "name": "stdout",
     "output_type": "stream",
     "text": [
      "Help on built-in function threshold:\n",
      "\n",
      "threshold(...)\n",
      "    threshold(src, thresh, maxval, type[, dst]) -> retval, dst\n",
      "    .   @brief Applies a fixed-level threshold to each array element.\n",
      "    .   \n",
      "    .   The function applies fixed-level thresholding to a multiple-channel array. The function is typically\n",
      "    .   used to get a bi-level (binary) image out of a grayscale image ( #compare could be also used for\n",
      "    .   this purpose) or for removing a noise, that is, filtering out pixels with too small or too large\n",
      "    .   values. There are several types of thresholding supported by the function. They are determined by\n",
      "    .   type parameter.\n",
      "    .   \n",
      "    .   Also, the special values #THRESH_OTSU or #THRESH_TRIANGLE may be combined with one of the\n",
      "    .   above values. In these cases, the function determines the optimal threshold value using the Otsu's\n",
      "    .   or Triangle algorithm and uses it instead of the specified thresh.\n",
      "    .   \n",
      "    .   @note Currently, the Otsu's and Triangle methods are implemented only for 8-bit single-channel images.\n",
      "    .   \n",
      "    .   @param src input array (multiple-channel, 8-bit or 32-bit floating point).\n",
      "    .   @param dst output array of the same size  and type and the same number of channels as src.\n",
      "    .   @param thresh threshold value.\n",
      "    .   @param maxval maximum value to use with the #THRESH_BINARY and #THRESH_BINARY_INV thresholding\n",
      "    .   types.\n",
      "    .   @param type thresholding type (see #ThresholdTypes).\n",
      "    .   @return the computed threshold value if Otsu's or Triangle methods used.\n",
      "    .   \n",
      "    .   @sa  adaptiveThreshold, findContours, compare, min, max\n",
      "\n"
     ]
    }
   ],
   "source": [
    "help(cv2.threshold)"
   ]
  },
  {
   "cell_type": "code",
   "execution_count": null,
   "metadata": {},
   "outputs": [],
   "source": []
  }
 ],
 "metadata": {
  "kernelspec": {
   "display_name": "Python 3",
   "language": "python",
   "name": "python3"
  },
  "language_info": {
   "codemirror_mode": {
    "name": "ipython",
    "version": 3
   },
   "file_extension": ".py",
   "mimetype": "text/x-python",
   "name": "python",
   "nbconvert_exporter": "python",
   "pygments_lexer": "ipython3",
   "version": "3.6.5"
  }
 },
 "nbformat": 4,
 "nbformat_minor": 2
}
