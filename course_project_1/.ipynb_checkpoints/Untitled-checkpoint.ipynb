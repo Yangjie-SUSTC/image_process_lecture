{
 "cells": [
  {
   "cell_type": "code",
   "execution_count": 258,
   "metadata": {},
   "outputs": [],
   "source": [
    "import cv2\n",
    "import numpy as np\n",
    "from matplotlib import pyplot as plt\n",
    "from copy import deepcopy as dcp\n",
    "import pandas as pd\n",
    "\n",
    "\n",
    "class IMG:\n",
    "    def __init__(self, name, mark=None):\n",
    "        self.path = 'D:\\graduated\\Image_process\\lab\\PGM_images\\\\'\n",
    "        self.savepath = 'D:\\graduated\\Image_process\\lab\\lab_report\\lab8\\imagesave\\\\'\n",
    "        self.name = name\n",
    "        self.prop = '.pgm'\n",
    "        self.mark = mark\n",
    "        # self.img=None\n",
    "\n",
    "    def load(self):\n",
    "        self.imapath = self.path + self.name + self.prop\n",
    "        self.img = np.float64(cv2.imread(self.imapath, 0))\n",
    "        self.save(self.img, 'original')\n",
    "        return self.img\n",
    "\n",
    "    def save(self, img, mark=None, flag=0):\n",
    "        if flag:\n",
    "            img = cv2.equalizeHist(np.uint8(img))\n",
    "        self.mark = mark\n",
    "        savepath = self.savepath + self.name + '_' + self.mark + '.jpg'\n",
    "        cv2.imwrite(savepath, img)\n",
    "        return img\n",
    "\n",
    "    def disp(self, winName, img, sizeflag=cv2.WINDOW_NORMAL):\n",
    "\n",
    "        img = cv2.equalizeHist(np.uint8(img))\n",
    "        if sizeflag == 1:\n",
    "            sizeflag = cv2.WINDOW_AUTOSIZE\n",
    "        cv2.namedWindow(winName, sizeflag)\n",
    "        cv2.imshow(winName, img)\n",
    "        cv2.waitKey(0)\n",
    "        cv2.destroyWindow(winName)\n",
    "        return img\n",
    "\n",
    "    def psave(self, img, mark=None, cb=0):  # shown image in windows and save\n",
    "        fig = plt.gcf()\n",
    "        plt.imshow(img, cmap='gray')\n",
    "        if cb:\n",
    "            plt.colorbar()\n",
    "        plt.xticks([]), plt.yticks([])\n",
    "        savepath = self.savepath + self.name + '_' + mark + '.jpg'\n",
    "        fig.savefig(savepath, dpi=500, bbox_inches='tight')\n",
    "        plt.close()\n",
    "\n",
    "    def fsave(self, fig, mark=None):  # save plot fihiure\n",
    "        plt.tick_params(labelsize=20)\n",
    "        # plt.xticks([]), plt.yticks([])\n",
    "        savepath = self.savepath + self.name + '_' + mark + '.jpg'\n",
    "        fig.savefig(savepath, dpi=500, bbox_inches='tight')\n",
    "        plt.close()\n",
    "    def plthist(self, img,mark):\n",
    "        font2 = {'family' :'Times New Roman', 'weight' : 'normal','size'   :25}\n",
    "        img=np.uint8(img)\n",
    "        fig = plt . gcf ()\n",
    "        plt . hist (  img . ravel () ,256 );\n",
    "        plt . xlabel ( 'Intensity ',font2)\n",
    "        plt . ylabel ( 'Count ',font2)\n",
    "        self.fsave (fig , mark)\n",
    "        plt . close ()\n",
    "\n",
    "\n",
    "def sfft(img):\n",
    "    f = np.fft.fft2(img)\n",
    "    fshift = np.fft.fftshift(f)\n",
    "    return fshift\n",
    "\n",
    "\n",
    "def isfft(fshift):\n",
    "    f_ishift = np.fft.ifftshift(fshift)\n",
    "    img_back = np.fft.ifft2(f_ishift)\n",
    "    return img_back\n",
    "\n",
    "\n",
    "\n",
    "\n",
    "def cal_R(x,y,img):\n",
    "    N=img.shape[0]\n",
    "    M=img.shape[1]\n",
    "    u=x-M/2\n",
    "    v=N/2-y\n",
    "    R=np.sqrt(u**2+v**2)\n",
    "    return R\n",
    "\n",
    "\n",
    "class Morphology:\n",
    "    def __init__(self):\n",
    "        self.name = 'Morphology'\n",
    "\n",
    "    def erosion(self, img, EM):\n",
    "        up_len = (EM.shape[0] - 1) // 2\n",
    "        right_len = (EM.shape[1] - 1) // 2\n",
    "        cmb_img = cv2.copyMakeBorder(img, up_len, up_len, right_len, right_len, cv2.BORDER_CONSTANT, value=1)\n",
    "        # print(cmb_img.shape)\n",
    "        dst = np.zeros(img.shape)\n",
    "        for x in range(img.shape[0]):\n",
    "            for y in range(img.shape[1]):\n",
    "                ROI = cmb_img[x:x + EM.shape[0], y:y + EM.shape[1]]\n",
    "                #if np.mean(cv2.bitwise_and(dcp(ROI), dcp(EM))) == 1:  # 1\n",
    "                if cv2.bitwise_and(dcp(ROI), dcp(EM)).all():\n",
    "                \n",
    "                    dst[x, y] = 255\n",
    "        return np.uint8(dst)\n",
    "\n",
    "    def dilation(self, img, EM):  # EM is 1, foreground is 1\n",
    "        up_len = (EM.shape[0] - 1) // 2\n",
    "        right_len = (EM.shape[1] - 1) // 2\n",
    "        cmb_img = cv2.copyMakeBorder(img, up_len, up_len, right_len, right_len, cv2.BORDER_CONSTANT, value=0)\n",
    "        # print(cmb_img.shape)\n",
    "        dst = np.zeros(img.shape)\n",
    "        for x in range(img.shape[0]):\n",
    "            for y in range(img.shape[1]):\n",
    "                ROI = cmb_img[x:x + EM.shape[0], y:y + EM.shape[1]]\n",
    "                #if np.mean(cv2.bitwise_and(dcp(ROI), dcp(EM))):  # 1\n",
    "                if cv2.bitwise_and(dcp(ROI), dcp(EM)).any():  # 1\n",
    "                    dst[x, y] = 255\n",
    "        return np.uint8(dst)\n",
    "\n",
    "    def opening(self, img, EM):\n",
    "        e = self.erosion(img, EM)\n",
    "        dst = self.dilation(e, EM)\n",
    "        return dst\n",
    "\n",
    "    def closing(self, img, EM):\n",
    "        e = self.dilation(img, EM)\n",
    "        dst = self.erosion(e, EM)\n",
    "        return dst\n",
    "    def boundary(self, img, EM):\n",
    "        dst=np.uint8(img-self.erosion(img, EM))\n",
    "        return dst\n",
    "    \n",
    "    def connect_detec_point(self,A,EM,x,y):\n",
    "        Xk_1=A*0\n",
    "        Xk=dcp(Xk_1)\n",
    "        Xk[x,y]=255;\n",
    "        while (Xk !=Xk_1).any():\n",
    "            Xk_1=Xk\n",
    "            temp=self.dilation( Xk_1, EM)\n",
    "            Xk=cv2.bitwise_and(dcp(temp), dcp(A))\n",
    "        X,Y=np.where(Xk==255)\n",
    "        mx=np.mean(X)\n",
    "        my=np.mean(Y)\n",
    "        area=len(X)\n",
    "        data=[X,Y,area,mx,my]\n",
    "        statics = pd.DataFrame([data],columns=['X','Y','Area','mx','my'])\n",
    "\n",
    "        return(statics,Xk)\n",
    "    \n",
    "    def connect_detec(self,A,EM,Seed):\n",
    "        Connect_set=A*0\n",
    "        result = pd.DataFrame()\n",
    "        while Seed.any():\n",
    "            X,Y=np.where(Seed==255)\n",
    "            statics,Conect=self.connect_detec_point(A,EM,X[0],Y[0])\n",
    "            result=result.append(statics,ignore_index = True)\n",
    "            Conect_inv=cv2.bitwise_not(Conect)\n",
    "            Seed=cv2.bitwise_and(Seed,Conect_inv)\n",
    "            #print('Catch %d connected component'%len(result))\n",
    "          \n",
    "            \n",
    "        return result\n",
    "            \n",
    "            \n",
    "            \n",
    "            \n",
    "            \n",
    "\n",
    "\n"
   ]
  },
  {
   "cell_type": "code",
   "execution_count": 255,
   "metadata": {},
   "outputs": [
    {
     "name": "stdout",
     "output_type": "stream",
     "text": [
      "Catch 1 connected component\n",
      "Catch 2 connected component\n",
      "Catch 3 connected component\n",
      "Catch 4 connected component\n",
      "Catch 5 connected component\n",
      "Catch 6 connected component\n",
      "Catch 7 connected component\n",
      "Catch 8 connected component\n",
      "Catch 9 connected component\n",
      "Catch 10 connected component\n",
      "Catch 11 connected component\n",
      "Catch 12 connected component\n",
      "Catch 13 connected component\n",
      "Catch 14 connected component\n",
      "Catch 15 connected component\n",
      "Catch 16 connected component\n",
      "Catch 17 connected component\n",
      "Catch 18 connected component\n",
      "Catch 19 connected component\n",
      "Catch 20 connected component\n",
      "Catch 21 connected component\n",
      "Catch 22 connected component\n",
      "Catch 23 connected component\n",
      "Catch 24 connected component\n",
      "Catch 25 connected component\n",
      "Catch 26 connected component\n",
      "Catch 27 connected component\n",
      "Catch 28 connected component\n",
      "Catch 29 connected component\n",
      "Catch 30 connected component\n",
      "Catch 31 connected component\n",
      "Catch 32 connected component\n",
      "Catch 33 connected component\n",
      "Catch 34 connected component\n",
      "Catch 35 connected component\n",
      "Catch 36 connected component\n",
      "Catch 37 connected component\n",
      "Catch 38 connected component\n",
      "Catch 39 connected component\n",
      "Catch 40 connected component\n",
      "Catch 41 connected component\n",
      "Catch 42 connected component\n",
      "Catch 43 connected component\n",
      "Catch 44 connected component\n",
      "Catch 45 connected component\n",
      "Catch 46 connected component\n",
      "Catch 47 connected component\n",
      "Catch 48 connected component\n",
      "Catch 49 connected component\n",
      "Catch 50 connected component\n",
      "Catch 51 connected component\n",
      "Catch 52 connected component\n",
      "Catch 53 connected component\n",
      "Catch 54 connected component\n",
      "Catch 55 connected component\n",
      "Catch 56 connected component\n",
      "Catch 57 connected component\n",
      "Catch 58 connected component\n",
      "Catch 59 connected component\n",
      "Catch 60 connected component\n",
      "Catch 61 connected component\n",
      "Catch 62 connected component\n",
      "Catch 63 connected component\n",
      "Catch 64 connected component\n",
      "Catch 65 connected component\n",
      "Catch 66 connected component\n",
      "Catch 67 connected component\n",
      "Catch 68 connected component\n",
      "Catch 69 connected component\n",
      "Catch 70 connected component\n",
      "Catch 71 connected component\n",
      "Catch 72 connected component\n",
      "Catch 73 connected component\n",
      "Catch 74 connected component\n",
      "Catch 75 connected component\n",
      "Catch 76 connected component\n",
      "Catch 77 connected component\n",
      "Catch 78 connected component\n",
      "Catch 79 connected component\n",
      "Catch 80 connected component\n",
      "Catch 81 connected component\n",
      "Catch 82 connected component\n",
      "Catch 83 connected component\n",
      "Catch 84 connected component\n",
      "Catch 85 connected component\n",
      "Catch 86 connected component\n",
      "Catch 87 connected component\n",
      "Catch 88 connected component\n",
      "Catch 89 connected component\n",
      "Catch 90 connected component\n",
      "Catch 91 connected component\n",
      "Catch 92 connected component\n",
      "Catch 93 connected component\n",
      "Catch 94 connected component\n",
      "Catch 95 connected component\n",
      "Catch 96 connected component\n",
      "Catch 97 connected component\n",
      "Catch 98 connected component\n",
      "Catch 99 connected component\n",
      "Catch 100 connected component\n",
      "Catch 101 connected component\n",
      "Catch 102 connected component\n",
      "Catch 103 connected component\n",
      "Catch 104 connected component\n",
      "Catch 105 connected component\n",
      "Catch 106 connected component\n",
      "Catch 107 connected component\n",
      "Catch 108 connected component\n",
      "Catch 109 connected component\n",
      "Catch 110 connected component\n",
      "Catch 111 connected component\n",
      "Catch 112 connected component\n",
      "Catch 113 connected component\n",
      "Catch 114 connected component\n",
      "Catch 115 connected component\n",
      "Catch 116 connected component\n",
      "Catch 117 connected component\n",
      "Catch 118 connected component\n",
      "Catch 119 connected component\n",
      "Catch 120 connected component\n"
     ]
    }
   ],
   "source": [
    "## -------------- P3----------------\n",
    "imnameset=['connected']\n",
    "for imname in imnameset:\n",
    "        I = IMG(imname)  \n",
    "        img = np.uint8(I.load())\n",
    "        EM = np.uint8(np.ones((3,3)))\n",
    "        M = Morphology()\n",
    "        \n",
    "        result=M.connect_detec(img,EM,img)\n",
    "        result=result.sort_values(by='Area')"
   ]
  },
  {
   "cell_type": "code",
   "execution_count": 277,
   "metadata": {},
   "outputs": [],
   "source": [
    "result.to_csv(I.savepath+'result.csv')\n",
    "result.index=np.arange(len(result))\n",
    "\n",
    "        \n",
    "    \n",
    "    "
   ]
  },
  {
   "cell_type": "code",
   "execution_count": 284,
   "metadata": {},
   "outputs": [],
   "source": [
    "latex=result.to_latex(longtable=True,escape=False)\n",
    "with open(I.savepath+'table.txt', 'w') as f:\n",
    "    f.write(latex)\n",
    "    \n",
    "data=result[['area','mx','my']]    \n",
    "latex=data.to_latex(longtable=True,escape=False)\n",
    "with open(I.savepath+'data.txt', 'w') as f:\n",
    "    f.write(latex)"
   ]
  },
  {
   "cell_type": "code",
   "execution_count": 289,
   "metadata": {},
   "outputs": [
    {
     "name": "stdout",
     "output_type": "stream",
     "text": [
      "1\n",
      "2\n",
      "6\n",
      "7\n",
      "12\n",
      "13\n",
      "16\n",
      "144\n",
      "400\n",
      "20\n",
      "23\n",
      "24\n",
      "156\n",
      "36\n",
      "42\n",
      "49\n",
      "50\n",
      "81\n",
      "90\n",
      "100\n",
      "380\n"
     ]
    }
   ],
   "source": [
    "for s in set():\n",
    "    amount=len(data[data['area']==1])\n"
   ]
  },
  {
   "cell_type": "code",
   "execution_count": 291,
   "metadata": {},
   "outputs": [
    {
     "data": {
      "text/plain": [
       "18"
      ]
     },
     "execution_count": 291,
     "metadata": {},
     "output_type": "execute_result"
    }
   ],
   "source": [
    "len(data[data['area']==1])"
   ]
  },
  {
   "cell_type": "code",
   "execution_count": 196,
   "metadata": {},
   "outputs": [],
   "source": [
    "x=X[0]\n",
    "y=Y[0]\n",
    "A=img\n",
    "Xk_1=A*0\n",
    "Xk=dcp(Xk_1)\n",
    "Xk[x,y]=255;\n",
    "while (Xk !=Xk_1).any():\n",
    "    Xk_1=Xk\n",
    "    temp=M.dilation( Xk_1, EM)\n",
    "    Xk=cv2.bitwise_and(dcp(temp), dcp(A))\n",
    "    X,Y=np.where(Xk==255)\n",
    "    mx=np.mean(X)\n",
    "    my=np.mean(Y)\n",
    "    area=len(X)\n",
    "    data=[X,Y,area,mx,my]\n",
    "    statics = pd.DataFrame([data],columns=['X','Y','area','mx','my'])"
   ]
  },
  {
   "cell_type": "code",
   "execution_count": 264,
   "metadata": {},
   "outputs": [],
   "source": [
    "latex=df1.to_latex()\n",
    "with open('D:\\graduated\\Image_process\\lab\\lab_report\\lab8\\\\table.txt', 'w') as f:\n",
    "    f.write(latex)"
   ]
  },
  {
   "cell_type": "code",
   "execution_count": 204,
   "metadata": {},
   "outputs": [
    {
     "data": {
      "text/plain": [
       "True"
      ]
     },
     "execution_count": 204,
     "metadata": {},
     "output_type": "execute_result"
    },
    {
     "data": {
      "image/png": "[encoded data removed]",
      "text/plain": [
       "<Figure size 432x288 with 1 Axes>"
      ]
     },
     "metadata": {},
     "output_type": "display_data"
    }
   ],
   "source": [
    "Seed=img\n",
    "Conect=Xk\n",
    "Conect_inv=cv2.bitwise_not(Conect)\n",
    "Seed=cv2.bitwise_and(Seed,Conect_inv)\n",
    "plt.imshow(img)\n",
    "Seed.any()\n"
   ]
  },
  {
   "cell_type": "code",
   "execution_count": 253,
   "metadata": {},
   "outputs": [
    {
     "data": {
      "text/html": [
       "<div>\n",
       "<style scoped>\n",
       "    .dataframe tbody tr th:only-of-type {\n",
       "        vertical-align: middle;\n",
       "    }\n",
       "\n",
       "    .dataframe tbody tr th {\n",
       "        vertical-align: top;\n",
       "    }\n",
       "\n",
       "    .dataframe thead th {\n",
       "        text-align: right;\n",
       "    }\n",
       "</style>\n",
       "<table border=\"1\" class=\"dataframe\">\n",
       "  <thead>\n",
       "    <tr style=\"text-align: right;\">\n",
       "      <th></th>\n",
       "      <th>X</th>\n",
       "      <th>Y</th>\n",
       "      <th>area</th>\n",
       "      <th>mx</th>\n",
       "      <th>my</th>\n",
       "    </tr>\n",
       "  </thead>\n",
       "  <tbody>\n",
       "    <tr>\n",
       "      <th>1</th>\n",
       "      <td>1</td>\n",
       "      <td>2</td>\n",
       "      <td>2</td>\n",
       "      <td>4</td>\n",
       "      <td>5</td>\n",
       "    </tr>\n",
       "    <tr>\n",
       "      <th>2</th>\n",
       "      <td>1</td>\n",
       "      <td>2</td>\n",
       "      <td>2</td>\n",
       "      <td>4</td>\n",
       "      <td>5</td>\n",
       "    </tr>\n",
       "    <tr>\n",
       "      <th>0</th>\n",
       "      <td>1</td>\n",
       "      <td>2</td>\n",
       "      <td>3</td>\n",
       "      <td>4</td>\n",
       "      <td>5</td>\n",
       "    </tr>\n",
       "  </tbody>\n",
       "</table>\n",
       "</div>"
      ],
      "text/plain": [
       "   X  Y  area  mx  my\n",
       "1  1  2     2   4   5\n",
       "2  1  2     2   4   5\n",
       "0  1  2     3   4   5"
      ]
     },
     "execution_count": 253,
     "metadata": {},
     "output_type": "execute_result"
    }
   ],
   "source": [
    "import pandas as pd\n",
    "data1=[[1,2,3,4,5]]\n",
    "data2=[[1,2,2,4,5]]\n",
    "df1 = pd.DataFrame(data1,columns=['X','Y','area','mx','my'])\n",
    "df2 = pd.DataFrame(data2,columns=['X','Y','area','mx','my'])\n",
    "df1=df1.append(df2)\n",
    "df1=df1.append(df2,ignore_index = True)\n",
    "df1=df1.sort_values(by='area')\n",
    "df1"
   ]
  },
  {
   "cell_type": "code",
   "execution_count": 246,
   "metadata": {},
   "outputs": [
    {
     "data": {
      "text/html": [
       "<div>\n",
       "<style scoped>\n",
       "    .dataframe tbody tr th:only-of-type {\n",
       "        vertical-align: middle;\n",
       "    }\n",
       "\n",
       "    .dataframe tbody tr th {\n",
       "        vertical-align: top;\n",
       "    }\n",
       "\n",
       "    .dataframe thead th {\n",
       "        text-align: right;\n",
       "    }\n",
       "</style>\n",
       "<table border=\"1\" class=\"dataframe\">\n",
       "  <thead>\n",
       "    <tr style=\"text-align: right;\">\n",
       "      <th></th>\n",
       "      <th>X</th>\n",
       "      <th>Y</th>\n",
       "      <th>area</th>\n",
       "      <th>mx</th>\n",
       "      <th>my</th>\n",
       "    </tr>\n",
       "  </thead>\n",
       "  <tbody>\n",
       "    <tr>\n",
       "      <th>0</th>\n",
       "      <td>1</td>\n",
       "      <td>2</td>\n",
       "      <td>3</td>\n",
       "      <td>4</td>\n",
       "      <td>5</td>\n",
       "    </tr>\n",
       "    <tr>\n",
       "      <th>1</th>\n",
       "      <td>1</td>\n",
       "      <td>2</td>\n",
       "      <td>3</td>\n",
       "      <td>4</td>\n",
       "      <td>5</td>\n",
       "    </tr>\n",
       "  </tbody>\n",
       "</table>\n",
       "</div>"
      ],
      "text/plain": [
       "   X  Y  area  mx  my\n",
       "0  1  2     3   4   5\n",
       "1  1  2     3   4   5"
      ]
     },
     "execution_count": 246,
     "metadata": {},
     "output_type": "execute_result"
    }
   ],
   "source": [
    "df1[df1['X']==1]"
   ]
  },
  {
   "cell_type": "code",
   "execution_count": 86,
   "metadata": {},
   "outputs": [
    {
     "data": {
      "text/plain": [
       "False"
      ]
     },
     "execution_count": 86,
     "metadata": {},
     "output_type": "execute_result"
    }
   ],
   "source": [
    "(Xk !=Xk_1).any()"
   ]
  },
  {
   "cell_type": "code",
   "execution_count": null,
   "metadata": {},
   "outputs": [],
   "source": []
  },
  {
   "cell_type": "code",
   "execution_count": 208,
   "metadata": {},
   "outputs": [
    {
     "ename": "ValueError",
     "evalue": "The truth value of an array with more than one element is ambiguous. Use a.any() or a.all()",
     "output_type": "error",
     "traceback": [
      "\u001b[1;31m---------------------------------------------------------------------------\u001b[0m",
      "\u001b[1;31mValueError\u001b[0m                                Traceback (most recent call last)",
      "\u001b[1;32m<ipython-input-208-841fb4412e9e>\u001b[0m in \u001b[0;36m<module>\u001b[1;34m()\u001b[0m\n\u001b[0;32m      8\u001b[0m         \u001b[0mEM\u001b[0m \u001b[1;33m=\u001b[0m \u001b[0mnp\u001b[0m\u001b[1;33m.\u001b[0m\u001b[0muint8\u001b[0m\u001b[1;33m(\u001b[0m\u001b[0mnp\u001b[0m\u001b[1;33m.\u001b[0m\u001b[0mones\u001b[0m\u001b[1;33m(\u001b[0m\u001b[1;33m(\u001b[0m\u001b[1;36m3\u001b[0m\u001b[1;33m,\u001b[0m \u001b[1;36m3\u001b[0m\u001b[1;33m)\u001b[0m\u001b[1;33m)\u001b[0m\u001b[1;33m)\u001b[0m\u001b[1;33m\u001b[0m\u001b[0m\n\u001b[0;32m      9\u001b[0m         \u001b[0mM\u001b[0m \u001b[1;33m=\u001b[0m \u001b[0mMorphology\u001b[0m\u001b[1;33m(\u001b[0m\u001b[1;33m)\u001b[0m\u001b[1;33m\u001b[0m\u001b[0m\n\u001b[1;32m---> 10\u001b[1;33m         \u001b[0mY\u001b[0m\u001b[1;33m=\u001b[0m\u001b[0mM\u001b[0m\u001b[1;33m.\u001b[0m\u001b[0mconnect_detec\u001b[0m\u001b[1;33m(\u001b[0m\u001b[0mimg\u001b[0m\u001b[1;33m,\u001b[0m\u001b[0mEM\u001b[0m\u001b[1;33m,\u001b[0m\u001b[1;36m0\u001b[0m\u001b[1;33m,\u001b[0m\u001b[1;36m0\u001b[0m\u001b[1;33m)\u001b[0m\u001b[1;33m\u001b[0m\u001b[0m\n\u001b[0m\u001b[0;32m     11\u001b[0m \u001b[1;33m\u001b[0m\u001b[0m\n",
      "\u001b[1;32m<ipython-input-206-5df934c76bdb>\u001b[0m in \u001b[0;36mconnect_detec\u001b[1;34m(self, A, EM, x, y)\u001b[0m\n\u001b[0;32m    136\u001b[0m         \u001b[0mXk\u001b[0m\u001b[1;33m=\u001b[0m\u001b[0mXk_1\u001b[0m\u001b[1;33m\u001b[0m\u001b[0m\n\u001b[0;32m    137\u001b[0m         \u001b[0mXk\u001b[0m\u001b[1;33m[\u001b[0m\u001b[0mx\u001b[0m\u001b[1;33m,\u001b[0m\u001b[0my\u001b[0m\u001b[1;33m]\u001b[0m\u001b[1;33m=\u001b[0m\u001b[1;36m255\u001b[0m\u001b[1;33m;\u001b[0m\u001b[1;33m\u001b[0m\u001b[0m\n\u001b[1;32m--> 138\u001b[1;33m         \u001b[1;32mwhile\u001b[0m \u001b[0mXk\u001b[0m \u001b[1;33m!=\u001b[0m\u001b[0mXk_1\u001b[0m\u001b[1;33m:\u001b[0m\u001b[1;33m\u001b[0m\u001b[0m\n\u001b[0m\u001b[0;32m    139\u001b[0m             \u001b[0mXk_1\u001b[0m\u001b[1;33m=\u001b[0m\u001b[0mXk\u001b[0m\u001b[1;33m\u001b[0m\u001b[0m\n\u001b[0;32m    140\u001b[0m             \u001b[0mtemp\u001b[0m\u001b[1;33m=\u001b[0m\u001b[0mself\u001b[0m\u001b[1;33m.\u001b[0m\u001b[0mdilation\u001b[0m\u001b[1;33m(\u001b[0m \u001b[0mXk_1\u001b[0m\u001b[1;33m,\u001b[0m \u001b[0mEM\u001b[0m\u001b[1;33m)\u001b[0m\u001b[1;33m\u001b[0m\u001b[0m\n",
      "\u001b[1;31mValueError\u001b[0m: The truth value of an array with more than one element is ambiguous. Use a.any() or a.all()"
     ]
    },
    {
     "data": {
      "image/png": "[encoded data removed]",
      "text/plain": [
       "<Figure size 432x288 with 1 Axes>"
      ]
     },
     "metadata": {},
     "output_type": "display_data"
    }
   ],
   "source": [
    "## -------------- P4----------------\n",
    "imnameset=['bubbles_on_black_background']\n",
    "for imname in imnameset:\n",
    "        I = IMG(imname)  \n",
    "        img = np.uint8(I.load())\n",
    "        plt.imshow(img,'gray')\n",
    "        double=img[225:247,96:118] # clsoed bouble\n",
    "        EM = np.uint8(np.ones((3, 3)))\n",
    "        M = Morphology()\n",
    "        Y=M.connect_detec(img,EM,0,0)\n",
    "        "
   ]
  },
  {
   "cell_type": "code",
   "execution_count": 216,
   "metadata": {},
   "outputs": [
    {
     "ename": "SyntaxError",
     "evalue": "invalid syntax (<ipython-input-216-1c45b147d9d1>, line 3)",
     "output_type": "error",
     "traceback": [
      "\u001b[1;36m  File \u001b[1;32m\"<ipython-input-216-1c45b147d9d1>\"\u001b[1;36m, line \u001b[1;32m3\u001b[0m\n\u001b[1;33m    if b.all()=a.all():\u001b[0m\n\u001b[1;37m              ^\u001b[0m\n\u001b[1;31mSyntaxError\u001b[0m\u001b[1;31m:\u001b[0m invalid syntax\n"
     ]
    }
   ],
   "source": [
    "a=img[0:4,1:4]\n",
    "b=a\n",
    "if b.all()=a.all():\n",
    "    print(1)"
   ]
  },
  {
   "cell_type": "code",
   "execution_count": 215,
   "metadata": {},
   "outputs": [
    {
     "ename": "NameError",
     "evalue": "name 'equal' is not defined",
     "output_type": "error",
     "traceback": [
      "\u001b[1;31m---------------------------------------------------------------------------\u001b[0m",
      "\u001b[1;31mNameError\u001b[0m                                 Traceback (most recent call last)",
      "\u001b[1;32m<ipython-input-215-32df975ae642>\u001b[0m in \u001b[0;36m<module>\u001b[1;34m()\u001b[0m\n\u001b[1;32m----> 1\u001b[1;33m \u001b[0mhelp\u001b[0m\u001b[1;33m(\u001b[0m\u001b[0mequal\u001b[0m\u001b[1;33m)\u001b[0m\u001b[1;33m\u001b[0m\u001b[0m\n\u001b[0m",
      "\u001b[1;31mNameError\u001b[0m: name 'equal' is not defined"
     ]
    }
   ],
   "source": [
    "help()"
   ]
  },
  {
   "cell_type": "code",
   "execution_count": 74,
   "metadata": {},
   "outputs": [],
   "source": [
    "EM=np.ones((3,3))"
   ]
  },
  {
   "cell_type": "code",
   "execution_count": null,
   "metadata": {},
   "outputs": [],
   "source": [
    "class (self)\n"
   ]
  },
  {
   "cell_type": "code",
   "execution_count": 77,
   "metadata": {},
   "outputs": [],
   "source": [
    "\n",
    "                \n",
    "            \n",
    "    \n",
    "    "
   ]
  },
  {
   "cell_type": "code",
   "execution_count": 75,
   "metadata": {},
   "outputs": [
    {
     "data": {
      "text/plain": [
       "<matplotlib.image.AxesImage at 0x2112f37bef0>"
      ]
     },
     "execution_count": 75,
     "metadata": {},
     "output_type": "execute_result"
    },
    {
     "data": {
      "image/png": "[encoded data removed]",
      "text/plain": [
       "<Figure size 432x288 with 1 Axes>"
      ]
     },
     "metadata": {},
     "output_type": "display_data"
    }
   ],
   "source": [
    "plt.imshow(img)"
   ]
  },
  {
   "cell_type": "code",
   "execution_count": 78,
   "metadata": {},
   "outputs": [
    {
     "ename": "error",
     "evalue": "OpenCV(3.4.1) C:\\Miniconda3\\conda-bld\\opencv-suite_1533128839831\\work\\modules\\core\\src\\arithm.cpp:225: error: (-209) The operation is neither 'array op array' (where arrays have the same size and type), nor 'array op scalar', nor 'scalar op array' in function cv::binary_op\n",
     "output_type": "error",
     "traceback": [
      "\u001b[1;31m---------------------------------------------------------------------------\u001b[0m",
      "\u001b[1;31merror\u001b[0m                                     Traceback (most recent call last)",
      "\u001b[1;32m<ipython-input-78-be5f2bc69a1f>\u001b[0m in \u001b[0;36m<module>\u001b[1;34m()\u001b[0m\n\u001b[1;32m----> 1\u001b[1;33m \u001b[0mb\u001b[0m\u001b[1;33m=\u001b[0m\u001b[0merosion\u001b[0m \u001b[1;33m(\u001b[0m\u001b[0mimg\u001b[0m\u001b[1;33m,\u001b[0m \u001b[0mEM\u001b[0m\u001b[1;33m)\u001b[0m\u001b[1;33m\u001b[0m\u001b[0m\n\u001b[0m",
      "\u001b[1;32m<ipython-input-77-4255b5f44697>\u001b[0m in \u001b[0;36merosion\u001b[1;34m(img, EM)\u001b[0m\n\u001b[0;32m      7\u001b[0m         \u001b[1;32mfor\u001b[0m \u001b[0my\u001b[0m \u001b[1;32min\u001b[0m \u001b[0mrange\u001b[0m\u001b[1;33m(\u001b[0m\u001b[0mimg\u001b[0m\u001b[1;33m.\u001b[0m\u001b[0mshape\u001b[0m\u001b[1;33m[\u001b[0m\u001b[1;36m1\u001b[0m\u001b[1;33m]\u001b[0m\u001b[1;33m)\u001b[0m\u001b[1;33m:\u001b[0m\u001b[1;33m\u001b[0m\u001b[0m\n\u001b[0;32m      8\u001b[0m             \u001b[0mROI\u001b[0m\u001b[1;33m=\u001b[0m\u001b[0mdcp\u001b[0m\u001b[1;33m(\u001b[0m\u001b[0mimg\u001b[0m\u001b[1;33m[\u001b[0m\u001b[0mx\u001b[0m\u001b[1;33m+\u001b[0m\u001b[0mup_len\u001b[0m\u001b[1;33m:\u001b[0m\u001b[0mx\u001b[0m\u001b[1;33m+\u001b[0m\u001b[0mup_len\u001b[0m\u001b[1;33m+\u001b[0m\u001b[0mEM\u001b[0m\u001b[1;33m.\u001b[0m\u001b[0mshape\u001b[0m\u001b[1;33m[\u001b[0m\u001b[1;36m0\u001b[0m\u001b[1;33m]\u001b[0m\u001b[1;33m,\u001b[0m\u001b[0my\u001b[0m\u001b[1;33m+\u001b[0m\u001b[0mright_len\u001b[0m\u001b[1;33m:\u001b[0m\u001b[0my\u001b[0m\u001b[1;33m+\u001b[0m\u001b[0mright_len\u001b[0m\u001b[1;33m+\u001b[0m\u001b[0mEM\u001b[0m\u001b[1;33m.\u001b[0m\u001b[0mshape\u001b[0m\u001b[1;33m[\u001b[0m\u001b[1;36m1\u001b[0m\u001b[1;33m]\u001b[0m\u001b[1;33m]\u001b[0m\u001b[1;33m)\u001b[0m\u001b[1;33m\u001b[0m\u001b[0m\n\u001b[1;32m----> 9\u001b[1;33m             \u001b[1;32mif\u001b[0m \u001b[0mnp\u001b[0m\u001b[1;33m.\u001b[0m\u001b[0mmean\u001b[0m\u001b[1;33m(\u001b[0m\u001b[0mcv2\u001b[0m\u001b[1;33m.\u001b[0m\u001b[0mbitwise_and\u001b[0m\u001b[1;33m(\u001b[0m\u001b[0mROI\u001b[0m\u001b[1;33m,\u001b[0m\u001b[0mdcp\u001b[0m\u001b[1;33m(\u001b[0m\u001b[0mEM\u001b[0m\u001b[1;33m)\u001b[0m\u001b[1;33m)\u001b[0m\u001b[1;33m)\u001b[0m\u001b[1;33m:\u001b[0m \u001b[1;31m# 1\u001b[0m\u001b[1;33m\u001b[0m\u001b[0m\n\u001b[0m\u001b[0;32m     10\u001b[0m                 \u001b[0mdst\u001b[0m\u001b[1;33m[\u001b[0m\u001b[0mx\u001b[0m\u001b[1;33m,\u001b[0m\u001b[0my\u001b[0m\u001b[1;33m]\u001b[0m\u001b[1;33m=\u001b[0m \u001b[1;36m255\u001b[0m\u001b[1;33m\u001b[0m\u001b[0m\n\u001b[0;32m     11\u001b[0m     \u001b[1;32mreturn\u001b[0m \u001b[0mnp\u001b[0m\u001b[1;33m.\u001b[0m\u001b[0muint8\u001b[0m\u001b[1;33m(\u001b[0m\u001b[0mdst\u001b[0m\u001b[1;33m)\u001b[0m\u001b[1;33m\u001b[0m\u001b[0m\n",
      "\u001b[1;31merror\u001b[0m: OpenCV(3.4.1) C:\\Miniconda3\\conda-bld\\opencv-suite_1533128839831\\work\\modules\\core\\src\\arithm.cpp:225: error: (-209) The operation is neither 'array op array' (where arrays have the same size and type), nor 'array op scalar', nor 'scalar op array' in function cv::binary_op\n"
     ]
    }
   ],
   "source": [
    "b=erosion (img, EM)"
   ]
  },
  {
   "cell_type": "code",
   "execution_count": 79,
   "metadata": {},
   "outputs": [
    {
     "data": {
      "text/plain": [
       "(782, 455)"
      ]
     },
     "execution_count": 79,
     "metadata": {},
     "output_type": "execute_result"
    }
   ],
   "source": [
    "img.shape"
   ]
  },
  {
   "cell_type": "code",
   "execution_count": 81,
   "metadata": {},
   "outputs": [
    {
     "data": {
      "text/plain": [
       "array([], shape=(0, 0), dtype=float64)"
      ]
     },
     "execution_count": 81,
     "metadata": {},
     "output_type": "execute_result"
    }
   ],
   "source": [
    "up_len=1\n",
    "right_len=1\n",
    "x=img.shape[0]\n",
    "y=img.shape[1]\n",
    "img[x + up_len:x + up_len + EM.shape[0], y + right_len:y + right_len + EM.shape[1]]"
   ]
  },
  {
   "cell_type": "code",
   "execution_count": null,
   "metadata": {},
   "outputs": [],
   "source": []
  }
 ],
 "metadata": {
  "kernelspec": {
   "display_name": "Python 3",
   "language": "python",
   "name": "python3"
  },
  "language_info": {
   "codemirror_mode": {
    "name": "ipython",
    "version": 3
   },
   "file_extension": ".py",
   "mimetype": "text/x-python",
   "name": "python",
   "nbconvert_exporter": "python",
   "pygments_lexer": "ipython3",
   "version": "3.6.5"
  }
 },
 "nbformat": 4,
 "nbformat_minor": 2
}
