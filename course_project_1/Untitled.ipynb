{
 "cells": [
  {
   "cell_type": "code",
   "execution_count": 369,
   "metadata": {},
   "outputs": [],
   "source": [
    "#!/usr/bin/python3\n",
    "# -*- coding: utf-8 -*-\n",
    "'''\n",
    "Author yangjie @ SUSTC\n",
    "'''\n",
    "\n",
    "\n",
    "\n",
    "\n",
    "\n",
    "\n"
   ]
  },
  {
   "cell_type": "code",
   "execution_count": 412,
   "metadata": {},
   "outputs": [],
   "source": []
  },
  {
   "cell_type": "code",
   "execution_count": 418,
   "metadata": {},
   "outputs": [
    {
     "name": "stdout",
     "output_type": "stream",
     "text": [
      "0.25\n",
      "0.5\n",
      "1\n",
      "1.5\n",
      "2\n"
     ]
    }
   ],
   "source": [
    "\n",
    "   \n",
    "    \n",
    "\n",
    "\n",
    "   \n"
   ]
  },
  {
   "cell_type": "code",
   "execution_count": 417,
   "metadata": {},
   "outputs": [
    {
     "data": {
      "text/plain": [
       "array([[73.60392157, 72.53333333, 69.36862745, ..., 82.45098039,\n",
       "        85.89803922, 50.96470588],\n",
       "       [73.60392157, 72.53333333, 69.36862745, ..., 82.45098039,\n",
       "        85.89803922, 50.96470588],\n",
       "       [74.68235294, 69.36862745, 70.41568627, ..., 69.36862745,\n",
       "        61.2745098 , 29.68235294],\n",
       "       ...,\n",
       "       [ 3.0745098 ,  3.0745098 ,  3.29803922, ..., 11.01568627,\n",
       "        15.0745098 , 13.65098039],\n",
       "       [ 1.56862745,  2.45098039,  2.65098039, ..., 16.0627451 ,\n",
       "        18.67058824, 16.56862745],\n",
       "       [ 1.89803922,  3.52941176,  2.45098039, ..., 19.76862745,\n",
       "        18.13333333, 20.32941176]])"
      ]
     },
     "execution_count": 417,
     "metadata": {},
     "output_type": "execute_result"
    }
   ],
   "source": [
    "cimg=GammaCorrect(img,gamma)\n",
    "I.save(cimg,'gamma_'+str(int(0.25*100)))"
   ]
  },
  {
   "cell_type": "code",
   "execution_count": null,
   "metadata": {},
   "outputs": [],
   "source": []
  },
  {
   "cell_type": "code",
   "execution_count": 256,
   "metadata": {},
   "outputs": [],
   "source": [
    "cvimg=cv2.blur(np.uint8(img),mask.shape);\n",
    "I.save(cvimg, mark='opencvmean');\n",
    "rimg=MaskFiltering(img,mask)"
   ]
  },
  {
   "cell_type": "code",
   "execution_count": 306,
   "metadata": {},
   "outputs": [
    {
     "data": {
      "text/plain": [
       "array([[135.22222222, 134.55555556, 135.33333333, ..., 118.11111111,\n",
       "        134.        , 128.77777778],\n",
       "       [134.44444444, 133.55555556, 134.22222222, ..., 106.11111111,\n",
       "        109.77777778,  99.44444444],\n",
       "       [132.88888889, 132.22222222, 132.66666667, ...,  83.        ,\n",
       "         74.22222222,  61.77777778],\n",
       "       ...,\n",
       "       [ 28.33333333,  28.77777778,  30.33333333, ...,  36.22222222,\n",
       "         40.22222222,  48.        ],\n",
       "       [ 26.33333333,  27.33333333,  29.66666667, ...,  44.55555556,\n",
       "         50.88888889,  57.44444444],\n",
       "       [ 25.88888889,  27.11111111,  28.55555556, ...,  53.22222222,\n",
       "         60.33333333,  64.77777778]])"
      ]
     },
     "execution_count": 306,
     "metadata": {},
     "output_type": "execute_result"
    }
   ],
   "source": [
    "\n",
    "rimg"
   ]
  },
  {
   "cell_type": "code",
   "execution_count": 298,
   "metadata": {},
   "outputs": [
    {
     "data": {
      "text/plain": [
       "array([[135.22222222, 134.55555556, 135.33333333, ..., 118.11111111,\n",
       "        134.        , 128.77777778],\n",
       "       [134.44444444, 133.55555556, 134.22222222, ..., 106.11111111,\n",
       "        109.77777778,  99.44444444],\n",
       "       [132.88888889, 132.22222222, 132.66666667, ...,  83.        ,\n",
       "         74.22222222,  61.77777778],\n",
       "       ...,\n",
       "       [ 28.33333333,  28.77777778,  30.33333333, ...,  36.22222222,\n",
       "         40.22222222,  48.        ],\n",
       "       [ 26.33333333,  27.33333333,  29.66666667, ...,  44.55555556,\n",
       "         50.88888889,  57.44444444],\n",
       "       [ 25.88888889,  27.11111111,  28.55555556, ...,  53.22222222,\n",
       "         60.33333333,  64.77777778]])"
      ]
     },
     "execution_count": 298,
     "metadata": {},
     "output_type": "execute_result"
    }
   ],
   "source": [
    "rimg"
   ]
  },
  {
   "cell_type": "code",
   "execution_count": 283,
   "metadata": {},
   "outputs": [
    {
     "data": {
      "text/plain": [
       "134.55555555555554"
      ]
     },
     "execution_count": 283,
     "metadata": {},
     "output_type": "execute_result"
    }
   ],
   "source": [
    "ROI=img[0:3,1:4]\n",
    "val=ROI*mask\n",
    "np.mean(val)\n"
   ]
  },
  {
   "cell_type": "code",
   "execution_count": 385,
   "metadata": {},
   "outputs": [],
   "source": [
    " P5( ['lena', 'bridge', 'circles','fingerprint1'])"
   ]
  },
  {
   "cell_type": "code",
   "execution_count": 309,
   "metadata": {},
   "outputs": [
    {
     "name": "stdout",
     "output_type": "stream",
     "text": [
      "please input mask, \n",
      " split with , for items \t\t ; for rows \n",
      "1,1,1;1,1,1;1,1,1\n",
      "mask is: \n",
      " [[1.0, 1.0, 1.0], [1.0, 1.0, 1.0], [1.0, 1.0, 1.0]]\n"
     ]
    }
   ],
   "source": []
  },
  {
   "cell_type": "code",
   "execution_count": 384,
   "metadata": {},
   "outputs": [],
   "source": []
  },
  {
   "cell_type": "code",
   "execution_count": null,
   "metadata": {},
   "outputs": [],
   "source": []
  }
 ],
 "metadata": {
  "kernelspec": {
   "display_name": "Python 3",
   "language": "python",
   "name": "python3"
  },
  "language_info": {
   "codemirror_mode": {
    "name": "ipython",
    "version": 3
   },
   "file_extension": ".py",
   "mimetype": "text/x-python",
   "name": "python",
   "nbconvert_exporter": "python",
   "pygments_lexer": "ipython3",
   "version": "3.6.5"
  }
 },
 "nbformat": 4,
 "nbformat_minor": 2
}
